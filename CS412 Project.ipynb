{
 "cells": [
  {
   "cell_type": "markdown",
   "metadata": {},
   "source": [
    "<h1><center>CS 412 Project</center></h1>\n",
    "\n",
    "<h3>Overview</h3>\n",
    "    <p>The goal of this project is to explore some machine learning tasks on a real world data set. For this project I have chosen the following problem. \n",
    "    </p>\n",
    "\n",
    "<h3>Problem Statement</h3>\n",
    "    <p>You are working for a non-profit that is recruiting student volunteers to help with Alzheimer’s patients. You have been tasked with predicting how suitable a person is for this task by predicting how empathetic he or she is. Using the <a href=\"https://www.kaggle.com/miroslavsabo/young-people-survey/\">Young People Survey dataset</a>, predict a person’s “Empathy” as either “very empathetic” (answers 4 and 5) or “not very empathetic” (answers 1, 2, and 3).\n",
    "    </p>\n",
    "<h3>Setup</h3>\n",
    "    <p>Before we jump into the process, let's take care of some necessary setup for tools that we'll need later. \n",
    "    First install the required packages using, \n",
    "    <pre>pip install -r requirements.txt </pre>\n",
    "    To avoid errors, please make sure you have python3-tk and graphviz installed in your system. If you don't have them installed, run the below commands (for debian),\n",
    "    <pre>sudo apt-get install python3-tk\n",
    "sudo apt-get install graphviz</pre>\n",
    "    </p>"
   ]
  },
  {
   "cell_type": "code",
   "execution_count": 119,
   "metadata": {},
   "outputs": [],
   "source": [
    "import pandas as pd\n",
    "import seaborn as sbn\n",
    "import preprocessor\n",
    "import utils\n",
    "import train\n",
    "import numpy as np\n",
    "import tuner\n",
    "from sklearn.metrics import accuracy_score"
   ]
  },
  {
   "cell_type": "markdown",
   "metadata": {},
   "source": [
    "<h3>Data properties</h3>\n",
    "    <p>To get an idea what kind of data we're dealing with, let's load the data and find out some properties that can help us in the further steps.\n",
    "    </p>"
   ]
  },
  {
   "cell_type": "code",
   "execution_count": 7,
   "metadata": {},
   "outputs": [
    {
     "data": {
      "text/html": [
       "<div>\n",
       "<style scoped>\n",
       "    .dataframe tbody tr th:only-of-type {\n",
       "        vertical-align: middle;\n",
       "    }\n",
       "\n",
       "    .dataframe tbody tr th {\n",
       "        vertical-align: top;\n",
       "    }\n",
       "\n",
       "    .dataframe thead th {\n",
       "        text-align: right;\n",
       "    }\n",
       "</style>\n",
       "<table border=\"1\" class=\"dataframe\">\n",
       "  <thead>\n",
       "    <tr style=\"text-align: right;\">\n",
       "      <th></th>\n",
       "      <th>Music</th>\n",
       "      <th>Slow songs or fast songs</th>\n",
       "      <th>Dance</th>\n",
       "      <th>Folk</th>\n",
       "      <th>Country</th>\n",
       "      <th>Classical music</th>\n",
       "      <th>Musical</th>\n",
       "      <th>Pop</th>\n",
       "      <th>Rock</th>\n",
       "      <th>Metal or Hardrock</th>\n",
       "      <th>...</th>\n",
       "      <th>Age</th>\n",
       "      <th>Height</th>\n",
       "      <th>Weight</th>\n",
       "      <th>Number of siblings</th>\n",
       "      <th>Gender</th>\n",
       "      <th>Left - right handed</th>\n",
       "      <th>Education</th>\n",
       "      <th>Only child</th>\n",
       "      <th>Village - town</th>\n",
       "      <th>House - block of flats</th>\n",
       "    </tr>\n",
       "  </thead>\n",
       "  <tbody>\n",
       "    <tr>\n",
       "      <th>0</th>\n",
       "      <td>5.0</td>\n",
       "      <td>3.0</td>\n",
       "      <td>2.0</td>\n",
       "      <td>1.0</td>\n",
       "      <td>2.0</td>\n",
       "      <td>2.0</td>\n",
       "      <td>1.0</td>\n",
       "      <td>5.0</td>\n",
       "      <td>5.0</td>\n",
       "      <td>1.0</td>\n",
       "      <td>...</td>\n",
       "      <td>20.0</td>\n",
       "      <td>163.0</td>\n",
       "      <td>48.0</td>\n",
       "      <td>1.0</td>\n",
       "      <td>female</td>\n",
       "      <td>right handed</td>\n",
       "      <td>college/bachelor degree</td>\n",
       "      <td>no</td>\n",
       "      <td>village</td>\n",
       "      <td>block of flats</td>\n",
       "    </tr>\n",
       "    <tr>\n",
       "      <th>1</th>\n",
       "      <td>4.0</td>\n",
       "      <td>4.0</td>\n",
       "      <td>2.0</td>\n",
       "      <td>1.0</td>\n",
       "      <td>1.0</td>\n",
       "      <td>1.0</td>\n",
       "      <td>2.0</td>\n",
       "      <td>3.0</td>\n",
       "      <td>5.0</td>\n",
       "      <td>4.0</td>\n",
       "      <td>...</td>\n",
       "      <td>19.0</td>\n",
       "      <td>163.0</td>\n",
       "      <td>58.0</td>\n",
       "      <td>2.0</td>\n",
       "      <td>female</td>\n",
       "      <td>right handed</td>\n",
       "      <td>college/bachelor degree</td>\n",
       "      <td>no</td>\n",
       "      <td>city</td>\n",
       "      <td>block of flats</td>\n",
       "    </tr>\n",
       "    <tr>\n",
       "      <th>2</th>\n",
       "      <td>5.0</td>\n",
       "      <td>5.0</td>\n",
       "      <td>2.0</td>\n",
       "      <td>2.0</td>\n",
       "      <td>3.0</td>\n",
       "      <td>4.0</td>\n",
       "      <td>5.0</td>\n",
       "      <td>3.0</td>\n",
       "      <td>5.0</td>\n",
       "      <td>3.0</td>\n",
       "      <td>...</td>\n",
       "      <td>20.0</td>\n",
       "      <td>176.0</td>\n",
       "      <td>67.0</td>\n",
       "      <td>2.0</td>\n",
       "      <td>female</td>\n",
       "      <td>right handed</td>\n",
       "      <td>secondary school</td>\n",
       "      <td>no</td>\n",
       "      <td>city</td>\n",
       "      <td>block of flats</td>\n",
       "    </tr>\n",
       "    <tr>\n",
       "      <th>3</th>\n",
       "      <td>5.0</td>\n",
       "      <td>3.0</td>\n",
       "      <td>2.0</td>\n",
       "      <td>1.0</td>\n",
       "      <td>1.0</td>\n",
       "      <td>1.0</td>\n",
       "      <td>1.0</td>\n",
       "      <td>2.0</td>\n",
       "      <td>2.0</td>\n",
       "      <td>1.0</td>\n",
       "      <td>...</td>\n",
       "      <td>22.0</td>\n",
       "      <td>172.0</td>\n",
       "      <td>59.0</td>\n",
       "      <td>1.0</td>\n",
       "      <td>female</td>\n",
       "      <td>right handed</td>\n",
       "      <td>college/bachelor degree</td>\n",
       "      <td>yes</td>\n",
       "      <td>city</td>\n",
       "      <td>house/bungalow</td>\n",
       "    </tr>\n",
       "    <tr>\n",
       "      <th>4</th>\n",
       "      <td>5.0</td>\n",
       "      <td>3.0</td>\n",
       "      <td>4.0</td>\n",
       "      <td>3.0</td>\n",
       "      <td>2.0</td>\n",
       "      <td>4.0</td>\n",
       "      <td>3.0</td>\n",
       "      <td>5.0</td>\n",
       "      <td>3.0</td>\n",
       "      <td>1.0</td>\n",
       "      <td>...</td>\n",
       "      <td>20.0</td>\n",
       "      <td>170.0</td>\n",
       "      <td>59.0</td>\n",
       "      <td>1.0</td>\n",
       "      <td>female</td>\n",
       "      <td>right handed</td>\n",
       "      <td>secondary school</td>\n",
       "      <td>no</td>\n",
       "      <td>village</td>\n",
       "      <td>house/bungalow</td>\n",
       "    </tr>\n",
       "  </tbody>\n",
       "</table>\n",
       "<p>5 rows × 150 columns</p>\n",
       "</div>"
      ],
      "text/plain": [
       "   Music  Slow songs or fast songs  Dance  Folk  Country  Classical music  \\\n",
       "0    5.0                       3.0    2.0   1.0      2.0              2.0   \n",
       "1    4.0                       4.0    2.0   1.0      1.0              1.0   \n",
       "2    5.0                       5.0    2.0   2.0      3.0              4.0   \n",
       "3    5.0                       3.0    2.0   1.0      1.0              1.0   \n",
       "4    5.0                       3.0    4.0   3.0      2.0              4.0   \n",
       "\n",
       "   Musical  Pop  Rock  Metal or Hardrock           ...             Age  \\\n",
       "0      1.0  5.0   5.0                1.0           ...            20.0   \n",
       "1      2.0  3.0   5.0                4.0           ...            19.0   \n",
       "2      5.0  3.0   5.0                3.0           ...            20.0   \n",
       "3      1.0  2.0   2.0                1.0           ...            22.0   \n",
       "4      3.0  5.0   3.0                1.0           ...            20.0   \n",
       "\n",
       "   Height  Weight  Number of siblings  Gender  Left - right handed  \\\n",
       "0   163.0    48.0                 1.0  female         right handed   \n",
       "1   163.0    58.0                 2.0  female         right handed   \n",
       "2   176.0    67.0                 2.0  female         right handed   \n",
       "3   172.0    59.0                 1.0  female         right handed   \n",
       "4   170.0    59.0                 1.0  female         right handed   \n",
       "\n",
       "                 Education  Only child  Village - town  House - block of flats  \n",
       "0  college/bachelor degree          no         village          block of flats  \n",
       "1  college/bachelor degree          no            city          block of flats  \n",
       "2         secondary school          no            city          block of flats  \n",
       "3  college/bachelor degree         yes            city          house/bungalow  \n",
       "4         secondary school          no         village          house/bungalow  \n",
       "\n",
       "[5 rows x 150 columns]"
      ]
     },
     "execution_count": 7,
     "metadata": {},
     "output_type": "execute_result"
    }
   ],
   "source": [
    "raw_df = pd.read_csv('train_data/responses.csv')\n",
    "raw_df.head()"
   ]
  },
  {
   "cell_type": "code",
   "execution_count": 8,
   "metadata": {},
   "outputs": [
    {
     "data": {
      "text/plain": [
       "(1010, 150)"
      ]
     },
     "execution_count": 8,
     "metadata": {},
     "output_type": "execute_result"
    }
   ],
   "source": [
    "raw_df.shape"
   ]
  },
  {
   "cell_type": "markdown",
   "metadata": {},
   "source": [
    "<p>So, we have 1010 samples each with 150 features. Let's check what their types are.</p>"
   ]
  },
  {
   "cell_type": "code",
   "execution_count": 17,
   "metadata": {},
   "outputs": [
    {
     "data": {
      "text/plain": [
       "(1010, 139)"
      ]
     },
     "execution_count": 17,
     "metadata": {},
     "output_type": "execute_result"
    }
   ],
   "source": [
    "raw_df.select_dtypes(include=['float64', 'int']).shape"
   ]
  },
  {
   "cell_type": "markdown",
   "metadata": {},
   "source": [
    "We have 139 features with numeric values either float or int and the rest 11 features therefore must be categoricals. Let's check some statistics of the data to get an idea of the distribution."
   ]
  },
  {
   "cell_type": "code",
   "execution_count": 19,
   "metadata": {},
   "outputs": [
    {
     "data": {
      "text/html": [
       "<div>\n",
       "<style scoped>\n",
       "    .dataframe tbody tr th:only-of-type {\n",
       "        vertical-align: middle;\n",
       "    }\n",
       "\n",
       "    .dataframe tbody tr th {\n",
       "        vertical-align: top;\n",
       "    }\n",
       "\n",
       "    .dataframe thead th {\n",
       "        text-align: right;\n",
       "    }\n",
       "</style>\n",
       "<table border=\"1\" class=\"dataframe\">\n",
       "  <thead>\n",
       "    <tr style=\"text-align: right;\">\n",
       "      <th></th>\n",
       "      <th>Music</th>\n",
       "      <th>Slow songs or fast songs</th>\n",
       "      <th>Dance</th>\n",
       "      <th>Folk</th>\n",
       "      <th>Country</th>\n",
       "      <th>Classical music</th>\n",
       "      <th>Musical</th>\n",
       "      <th>Pop</th>\n",
       "      <th>Rock</th>\n",
       "      <th>Metal or Hardrock</th>\n",
       "      <th>...</th>\n",
       "      <th>Age</th>\n",
       "      <th>Height</th>\n",
       "      <th>Weight</th>\n",
       "      <th>Number of siblings</th>\n",
       "      <th>Gender</th>\n",
       "      <th>Left - right handed</th>\n",
       "      <th>Education</th>\n",
       "      <th>Only child</th>\n",
       "      <th>Village - town</th>\n",
       "      <th>House - block of flats</th>\n",
       "    </tr>\n",
       "  </thead>\n",
       "  <tbody>\n",
       "    <tr>\n",
       "      <th>count</th>\n",
       "      <td>1007.000000</td>\n",
       "      <td>1008.000000</td>\n",
       "      <td>1006.000000</td>\n",
       "      <td>1005.000000</td>\n",
       "      <td>1005.000000</td>\n",
       "      <td>1003.000000</td>\n",
       "      <td>1008.000000</td>\n",
       "      <td>1007.000000</td>\n",
       "      <td>1004.000000</td>\n",
       "      <td>1007.000000</td>\n",
       "      <td>...</td>\n",
       "      <td>1003.000000</td>\n",
       "      <td>990.000000</td>\n",
       "      <td>990.000000</td>\n",
       "      <td>1004.000000</td>\n",
       "      <td>1004</td>\n",
       "      <td>1007</td>\n",
       "      <td>1009</td>\n",
       "      <td>1008</td>\n",
       "      <td>1006</td>\n",
       "      <td>1006</td>\n",
       "    </tr>\n",
       "    <tr>\n",
       "      <th>unique</th>\n",
       "      <td>NaN</td>\n",
       "      <td>NaN</td>\n",
       "      <td>NaN</td>\n",
       "      <td>NaN</td>\n",
       "      <td>NaN</td>\n",
       "      <td>NaN</td>\n",
       "      <td>NaN</td>\n",
       "      <td>NaN</td>\n",
       "      <td>NaN</td>\n",
       "      <td>NaN</td>\n",
       "      <td>...</td>\n",
       "      <td>NaN</td>\n",
       "      <td>NaN</td>\n",
       "      <td>NaN</td>\n",
       "      <td>NaN</td>\n",
       "      <td>2</td>\n",
       "      <td>2</td>\n",
       "      <td>6</td>\n",
       "      <td>2</td>\n",
       "      <td>2</td>\n",
       "      <td>2</td>\n",
       "    </tr>\n",
       "    <tr>\n",
       "      <th>top</th>\n",
       "      <td>NaN</td>\n",
       "      <td>NaN</td>\n",
       "      <td>NaN</td>\n",
       "      <td>NaN</td>\n",
       "      <td>NaN</td>\n",
       "      <td>NaN</td>\n",
       "      <td>NaN</td>\n",
       "      <td>NaN</td>\n",
       "      <td>NaN</td>\n",
       "      <td>NaN</td>\n",
       "      <td>...</td>\n",
       "      <td>NaN</td>\n",
       "      <td>NaN</td>\n",
       "      <td>NaN</td>\n",
       "      <td>NaN</td>\n",
       "      <td>female</td>\n",
       "      <td>right handed</td>\n",
       "      <td>secondary school</td>\n",
       "      <td>no</td>\n",
       "      <td>city</td>\n",
       "      <td>block of flats</td>\n",
       "    </tr>\n",
       "    <tr>\n",
       "      <th>freq</th>\n",
       "      <td>NaN</td>\n",
       "      <td>NaN</td>\n",
       "      <td>NaN</td>\n",
       "      <td>NaN</td>\n",
       "      <td>NaN</td>\n",
       "      <td>NaN</td>\n",
       "      <td>NaN</td>\n",
       "      <td>NaN</td>\n",
       "      <td>NaN</td>\n",
       "      <td>NaN</td>\n",
       "      <td>...</td>\n",
       "      <td>NaN</td>\n",
       "      <td>NaN</td>\n",
       "      <td>NaN</td>\n",
       "      <td>NaN</td>\n",
       "      <td>593</td>\n",
       "      <td>906</td>\n",
       "      <td>621</td>\n",
       "      <td>754</td>\n",
       "      <td>707</td>\n",
       "      <td>595</td>\n",
       "    </tr>\n",
       "    <tr>\n",
       "      <th>mean</th>\n",
       "      <td>4.731877</td>\n",
       "      <td>3.328373</td>\n",
       "      <td>3.113320</td>\n",
       "      <td>2.288557</td>\n",
       "      <td>2.123383</td>\n",
       "      <td>2.956132</td>\n",
       "      <td>2.761905</td>\n",
       "      <td>3.471698</td>\n",
       "      <td>3.761952</td>\n",
       "      <td>2.361470</td>\n",
       "      <td>...</td>\n",
       "      <td>20.433699</td>\n",
       "      <td>173.514141</td>\n",
       "      <td>66.405051</td>\n",
       "      <td>1.297809</td>\n",
       "      <td>NaN</td>\n",
       "      <td>NaN</td>\n",
       "      <td>NaN</td>\n",
       "      <td>NaN</td>\n",
       "      <td>NaN</td>\n",
       "      <td>NaN</td>\n",
       "    </tr>\n",
       "    <tr>\n",
       "      <th>std</th>\n",
       "      <td>0.664049</td>\n",
       "      <td>0.833931</td>\n",
       "      <td>1.170568</td>\n",
       "      <td>1.138916</td>\n",
       "      <td>1.076136</td>\n",
       "      <td>1.252570</td>\n",
       "      <td>1.260845</td>\n",
       "      <td>1.161400</td>\n",
       "      <td>1.184861</td>\n",
       "      <td>1.372995</td>\n",
       "      <td>...</td>\n",
       "      <td>2.828840</td>\n",
       "      <td>10.024505</td>\n",
       "      <td>13.839561</td>\n",
       "      <td>1.013348</td>\n",
       "      <td>NaN</td>\n",
       "      <td>NaN</td>\n",
       "      <td>NaN</td>\n",
       "      <td>NaN</td>\n",
       "      <td>NaN</td>\n",
       "      <td>NaN</td>\n",
       "    </tr>\n",
       "    <tr>\n",
       "      <th>min</th>\n",
       "      <td>1.000000</td>\n",
       "      <td>1.000000</td>\n",
       "      <td>1.000000</td>\n",
       "      <td>1.000000</td>\n",
       "      <td>1.000000</td>\n",
       "      <td>1.000000</td>\n",
       "      <td>1.000000</td>\n",
       "      <td>1.000000</td>\n",
       "      <td>1.000000</td>\n",
       "      <td>1.000000</td>\n",
       "      <td>...</td>\n",
       "      <td>15.000000</td>\n",
       "      <td>62.000000</td>\n",
       "      <td>41.000000</td>\n",
       "      <td>0.000000</td>\n",
       "      <td>NaN</td>\n",
       "      <td>NaN</td>\n",
       "      <td>NaN</td>\n",
       "      <td>NaN</td>\n",
       "      <td>NaN</td>\n",
       "      <td>NaN</td>\n",
       "    </tr>\n",
       "    <tr>\n",
       "      <th>25%</th>\n",
       "      <td>5.000000</td>\n",
       "      <td>3.000000</td>\n",
       "      <td>2.000000</td>\n",
       "      <td>1.000000</td>\n",
       "      <td>1.000000</td>\n",
       "      <td>2.000000</td>\n",
       "      <td>2.000000</td>\n",
       "      <td>3.000000</td>\n",
       "      <td>3.000000</td>\n",
       "      <td>1.000000</td>\n",
       "      <td>...</td>\n",
       "      <td>19.000000</td>\n",
       "      <td>167.000000</td>\n",
       "      <td>55.000000</td>\n",
       "      <td>1.000000</td>\n",
       "      <td>NaN</td>\n",
       "      <td>NaN</td>\n",
       "      <td>NaN</td>\n",
       "      <td>NaN</td>\n",
       "      <td>NaN</td>\n",
       "      <td>NaN</td>\n",
       "    </tr>\n",
       "    <tr>\n",
       "      <th>50%</th>\n",
       "      <td>5.000000</td>\n",
       "      <td>3.000000</td>\n",
       "      <td>3.000000</td>\n",
       "      <td>2.000000</td>\n",
       "      <td>2.000000</td>\n",
       "      <td>3.000000</td>\n",
       "      <td>3.000000</td>\n",
       "      <td>4.000000</td>\n",
       "      <td>4.000000</td>\n",
       "      <td>2.000000</td>\n",
       "      <td>...</td>\n",
       "      <td>20.000000</td>\n",
       "      <td>173.000000</td>\n",
       "      <td>64.000000</td>\n",
       "      <td>1.000000</td>\n",
       "      <td>NaN</td>\n",
       "      <td>NaN</td>\n",
       "      <td>NaN</td>\n",
       "      <td>NaN</td>\n",
       "      <td>NaN</td>\n",
       "      <td>NaN</td>\n",
       "    </tr>\n",
       "    <tr>\n",
       "      <th>75%</th>\n",
       "      <td>5.000000</td>\n",
       "      <td>4.000000</td>\n",
       "      <td>4.000000</td>\n",
       "      <td>3.000000</td>\n",
       "      <td>3.000000</td>\n",
       "      <td>4.000000</td>\n",
       "      <td>4.000000</td>\n",
       "      <td>4.000000</td>\n",
       "      <td>5.000000</td>\n",
       "      <td>3.000000</td>\n",
       "      <td>...</td>\n",
       "      <td>22.000000</td>\n",
       "      <td>180.000000</td>\n",
       "      <td>75.000000</td>\n",
       "      <td>2.000000</td>\n",
       "      <td>NaN</td>\n",
       "      <td>NaN</td>\n",
       "      <td>NaN</td>\n",
       "      <td>NaN</td>\n",
       "      <td>NaN</td>\n",
       "      <td>NaN</td>\n",
       "    </tr>\n",
       "    <tr>\n",
       "      <th>max</th>\n",
       "      <td>5.000000</td>\n",
       "      <td>5.000000</td>\n",
       "      <td>5.000000</td>\n",
       "      <td>5.000000</td>\n",
       "      <td>5.000000</td>\n",
       "      <td>5.000000</td>\n",
       "      <td>5.000000</td>\n",
       "      <td>5.000000</td>\n",
       "      <td>5.000000</td>\n",
       "      <td>5.000000</td>\n",
       "      <td>...</td>\n",
       "      <td>30.000000</td>\n",
       "      <td>203.000000</td>\n",
       "      <td>165.000000</td>\n",
       "      <td>10.000000</td>\n",
       "      <td>NaN</td>\n",
       "      <td>NaN</td>\n",
       "      <td>NaN</td>\n",
       "      <td>NaN</td>\n",
       "      <td>NaN</td>\n",
       "      <td>NaN</td>\n",
       "    </tr>\n",
       "  </tbody>\n",
       "</table>\n",
       "<p>11 rows × 150 columns</p>\n",
       "</div>"
      ],
      "text/plain": [
       "              Music  Slow songs or fast songs        Dance         Folk  \\\n",
       "count   1007.000000               1008.000000  1006.000000  1005.000000   \n",
       "unique          NaN                       NaN          NaN          NaN   \n",
       "top             NaN                       NaN          NaN          NaN   \n",
       "freq            NaN                       NaN          NaN          NaN   \n",
       "mean       4.731877                  3.328373     3.113320     2.288557   \n",
       "std        0.664049                  0.833931     1.170568     1.138916   \n",
       "min        1.000000                  1.000000     1.000000     1.000000   \n",
       "25%        5.000000                  3.000000     2.000000     1.000000   \n",
       "50%        5.000000                  3.000000     3.000000     2.000000   \n",
       "75%        5.000000                  4.000000     4.000000     3.000000   \n",
       "max        5.000000                  5.000000     5.000000     5.000000   \n",
       "\n",
       "            Country  Classical music      Musical          Pop         Rock  \\\n",
       "count   1005.000000      1003.000000  1008.000000  1007.000000  1004.000000   \n",
       "unique          NaN              NaN          NaN          NaN          NaN   \n",
       "top             NaN              NaN          NaN          NaN          NaN   \n",
       "freq            NaN              NaN          NaN          NaN          NaN   \n",
       "mean       2.123383         2.956132     2.761905     3.471698     3.761952   \n",
       "std        1.076136         1.252570     1.260845     1.161400     1.184861   \n",
       "min        1.000000         1.000000     1.000000     1.000000     1.000000   \n",
       "25%        1.000000         2.000000     2.000000     3.000000     3.000000   \n",
       "50%        2.000000         3.000000     3.000000     4.000000     4.000000   \n",
       "75%        3.000000         4.000000     4.000000     4.000000     5.000000   \n",
       "max        5.000000         5.000000     5.000000     5.000000     5.000000   \n",
       "\n",
       "        Metal or Hardrock           ...                    Age      Height  \\\n",
       "count         1007.000000           ...            1003.000000  990.000000   \n",
       "unique                NaN           ...                    NaN         NaN   \n",
       "top                   NaN           ...                    NaN         NaN   \n",
       "freq                  NaN           ...                    NaN         NaN   \n",
       "mean             2.361470           ...              20.433699  173.514141   \n",
       "std              1.372995           ...               2.828840   10.024505   \n",
       "min              1.000000           ...              15.000000   62.000000   \n",
       "25%              1.000000           ...              19.000000  167.000000   \n",
       "50%              2.000000           ...              20.000000  173.000000   \n",
       "75%              3.000000           ...              22.000000  180.000000   \n",
       "max              5.000000           ...              30.000000  203.000000   \n",
       "\n",
       "            Weight  Number of siblings  Gender  Left - right handed  \\\n",
       "count   990.000000         1004.000000    1004                 1007   \n",
       "unique         NaN                 NaN       2                    2   \n",
       "top            NaN                 NaN  female         right handed   \n",
       "freq           NaN                 NaN     593                  906   \n",
       "mean     66.405051            1.297809     NaN                  NaN   \n",
       "std      13.839561            1.013348     NaN                  NaN   \n",
       "min      41.000000            0.000000     NaN                  NaN   \n",
       "25%      55.000000            1.000000     NaN                  NaN   \n",
       "50%      64.000000            1.000000     NaN                  NaN   \n",
       "75%      75.000000            2.000000     NaN                  NaN   \n",
       "max     165.000000           10.000000     NaN                  NaN   \n",
       "\n",
       "               Education  Only child  Village - town  House - block of flats  \n",
       "count               1009        1008            1006                    1006  \n",
       "unique                 6           2               2                       2  \n",
       "top     secondary school          no            city          block of flats  \n",
       "freq                 621         754             707                     595  \n",
       "mean                 NaN         NaN             NaN                     NaN  \n",
       "std                  NaN         NaN             NaN                     NaN  \n",
       "min                  NaN         NaN             NaN                     NaN  \n",
       "25%                  NaN         NaN             NaN                     NaN  \n",
       "50%                  NaN         NaN             NaN                     NaN  \n",
       "75%                  NaN         NaN             NaN                     NaN  \n",
       "max                  NaN         NaN             NaN                     NaN  \n",
       "\n",
       "[11 rows x 150 columns]"
      ]
     },
     "execution_count": 19,
     "metadata": {},
     "output_type": "execute_result"
    }
   ],
   "source": [
    "raw_df.describe(include='all')"
   ]
  },
  {
   "cell_type": "markdown",
   "metadata": {},
   "source": [
    "Now that we have an idea what the distribution of each feature is from the above data description, let's move onto some data preparation for machine learning algorithms to work on."
   ]
  },
  {
   "cell_type": "markdown",
   "metadata": {},
   "source": [
    "<h3>Preprocessing</h3>\n",
    "    <p>First let's check if we have any of the samples are missing features values.\n",
    "    </p>"
   ]
  },
  {
   "cell_type": "code",
   "execution_count": 26,
   "metadata": {},
   "outputs": [
    {
     "data": {
      "text/plain": [
       "True"
      ]
     },
     "execution_count": 26,
     "metadata": {},
     "output_type": "execute_result"
    }
   ],
   "source": [
    "raw_df.isnull().values.any()"
   ]
  },
  {
   "cell_type": "markdown",
   "metadata": {},
   "source": [
    "Since, we have confirmed that there are missing values, let's try to fill each feature with the most frequent value for that feature."
   ]
  },
  {
   "cell_type": "code",
   "execution_count": 35,
   "metadata": {},
   "outputs": [
    {
     "name": "stdout",
     "output_type": "stream",
     "text": [
      "\tfilling missing values...\n"
     ]
    },
    {
     "data": {
      "text/plain": [
       "False"
      ]
     },
     "execution_count": 35,
     "metadata": {},
     "output_type": "execute_result"
    }
   ],
   "source": [
    "proc_df = preprocessor.fill_missing_values(raw_df)\n",
    "proc_df.isnull().values.any()"
   ]
  },
  {
   "cell_type": "markdown",
   "metadata": {},
   "source": [
    "Next, let's try to convert the data types to python compatible types if they are already not so."
   ]
  },
  {
   "cell_type": "code",
   "execution_count": 36,
   "metadata": {},
   "outputs": [],
   "source": [
    "proc_df = proc_df.apply(pd.to_numeric, errors=\"ignore\")"
   ]
  },
  {
   "cell_type": "markdown",
   "metadata": {},
   "source": [
    "From the data description above, we can see that the values of features like 'Weight' are not in the same scale as most other features which are in the range of 1.0 to 5.0. "
   ]
  },
  {
   "cell_type": "code",
   "execution_count": 37,
   "metadata": {},
   "outputs": [
    {
     "data": {
      "text/plain": [
       "0    48.0\n",
       "1    58.0\n",
       "2    67.0\n",
       "3    59.0\n",
       "4    59.0\n",
       "Name: Weight, dtype: float64"
      ]
     },
     "execution_count": 37,
     "metadata": {},
     "output_type": "execute_result"
    }
   ],
   "source": [
    "proc_df['Weight'].head()"
   ]
  },
  {
   "cell_type": "markdown",
   "metadata": {},
   "source": [
    "Normalization and scaling helps transform values to some specific scale that is similar to other features, without which many machine learning algorithms might fail in performing as expected as they use some kind of distance functions. So let's normalize and scale them to the same range as the majority of the features."
   ]
  },
  {
   "cell_type": "code",
   "execution_count": 38,
   "metadata": {},
   "outputs": [
    {
     "name": "stdout",
     "output_type": "stream",
     "text": [
      "\tnormalizing column...\n"
     ]
    },
    {
     "data": {
      "text/plain": [
       "0    0.282258\n",
       "1    0.685484\n",
       "2    1.048387\n",
       "3    0.725806\n",
       "4    0.725806\n",
       "Name: Weight, dtype: float64"
      ]
     },
     "execution_count": 38,
     "metadata": {},
     "output_type": "execute_result"
    }
   ],
   "source": [
    "proc_df = preprocessor.normalize(proc_df)\n",
    "proc_df['Weight'].head()"
   ]
  },
  {
   "cell_type": "markdown",
   "metadata": {},
   "source": [
    "Although, we did some basic preprocessing on our data, we still need to do some preparation, which we will see later. But, before that we need to separate our data for training, validation and testing."
   ]
  },
  {
   "cell_type": "markdown",
   "metadata": {},
   "source": [
    "<h3>Data separation</h3>\n",
    "    <p>We can't use all of our data for training as we need to know how our model performs on unseen future data. So, we need to separate a part of our data for testing. Also, after training, we need to find the best hyperparameters (parameters characteristic of the machine learning model) for which we need another set of samples. Obviously, we wouldn't want to use the testing data, as that would make our model biased. Therefore, we need a third set of samples which we'll call the validation set. A common split of the total data is 60% training, 20% validation(dev) and 10% testing. We'll randomly sample the data when we split so that we don't follow the order of the given data.\n",
    "    </p>"
   ]
  },
  {
   "cell_type": "code",
   "execution_count": 94,
   "metadata": {},
   "outputs": [
    {
     "data": {
      "text/plain": [
       "((202, 150), (202, 150), (606, 150))"
      ]
     },
     "execution_count": 94,
     "metadata": {},
     "output_type": "execute_result"
    }
   ],
   "source": [
    "dev_df, test_df, train_df = utils.trn_dev_tst_split(proc_df, True)\n",
    "dev_df.shape, test_df.shape, train_df.shape"
   ]
  },
  {
   "cell_type": "markdown",
   "metadata": {},
   "source": [
    "<h3>Evaluation</h3>\n",
    "    <p>Before we move further let's define a metric that can help measure and compare the performance of our models that we'll explore. A basic and most common metric is the accuracy which measures the percentage of correct predictions over the total number of samples.\n",
    "    </p>"
   ]
  },
  {
   "cell_type": "code",
   "execution_count": 48,
   "metadata": {},
   "outputs": [
    {
     "name": "stdout",
     "output_type": "stream",
     "text": [
      "75.0%\n"
     ]
    }
   ],
   "source": [
    "y_actual = [1,1,0,1]\n",
    "y_pred = [1,1,1,1]\n",
    "print('{}%'.format(accuracy_score(y_actual, y_pred) * 100))"
   ]
  },
  {
   "cell_type": "markdown",
   "metadata": {},
   "source": [
    "<h3>Feature selection</h3>\n",
    "    <p>Since we have a total 150 different features, we may have unnecessary, irrelevant or redundant attributes that do not contribute towards predicting whether a person is empathetic or not. The fewer the features, the simpler the model becomes, which makes it easier to understand and explain.\n",
    "    </p>\n",
    "    <p>Instead of handpicking features that we might think are relevant, let's do some solid mathematical analysis on our preprocessed data and see if we can pick some features that are more important than others. To do this we'll use the correlation matrix and pick the top 9 most correlated features to our emapthy class.\n",
    "    </p>"
   ]
  },
  {
   "cell_type": "code",
   "execution_count": 56,
   "metadata": {},
   "outputs": [
    {
     "name": "stdout",
     "output_type": "stream",
     "text": [
      "\tgenerating feature correlation matrix...\n",
      "\tplotting top 9 correlated features...\n"
     ]
    },
    {
     "data": {
      "image/png": "[encoded data removed]",
      "text/plain": [
       "<Figure size 720x720 with 2 Axes>"
      ]
     },
     "metadata": {},
     "output_type": "display_data"
    }
   ],
   "source": [
    "# from importlib import reload\n",
    "# reload(utils)\n",
    "cm, cols = utils.feature_correlation(train_df, 10, 'Empathy')\n",
    "utils.plot_corr_matrix(10, cm, cols)\n"
   ]
  },
  {
   "cell_type": "markdown",
   "metadata": {},
   "source": [
    "We can see from the correlation matrix that the top 9 most correlated features excluding the class Empathy itself are:"
   ]
  },
  {
   "cell_type": "code",
   "execution_count": 59,
   "metadata": {
    "scrolled": true
   },
   "outputs": [
    {
     "data": {
      "text/plain": [
       "['Life struggles',\n",
       " 'Judgment calls',\n",
       " 'Cars',\n",
       " 'Psychology',\n",
       " 'Fantasy/Fairy tales',\n",
       " 'Weight',\n",
       " 'Compassion to animals',\n",
       " 'Friends versus money',\n",
       " 'Reading']"
      ]
     },
     "execution_count": 59,
     "metadata": {},
     "output_type": "execute_result"
    }
   ],
   "source": [
    "list(cols[1:])"
   ]
  },
  {
   "cell_type": "code",
   "execution_count": 70,
   "metadata": {},
   "outputs": [
    {
     "data": {
      "text/plain": [
       "<seaborn.axisgrid.PairGrid at 0x7fc542a8dda0>"
      ]
     },
     "execution_count": 70,
     "metadata": {},
     "output_type": "execute_result"
    },
    {
     "data": {
      "image/png": "[encoded data removed]",
      "text/plain": [
       "<Figure size 1800x1800 with 110 Axes>"
      ]
     },
     "metadata": {},
     "output_type": "display_data"
    }
   ],
   "source": [
    "sbn.pairplot(train_df[cols], kind='reg', diag_kind='kde')"
   ]
  },
  {
   "cell_type": "markdown",
   "metadata": {},
   "source": [
    "From the above pair plot of each of selected features, if we look at the Empathy column, we can see how other features depend on Empathy. For example, features like Life struggles and Judgment Calls have positive correlation and their linear fit increase with Empathy score. Similarly, for features like Cars and Weight which have negative correlation with Empathy, their linear fit decreases as Empathy score increases. "
   ]
  },
  {
   "cell_type": "markdown",
   "metadata": {},
   "source": [
    "<h3>Data wrangling</h3>\n",
    "    <p>Now that we have selected relevant features that are good indicators for predicting whether a person is empathetic or not, let's further do some data preparation for the learning algorithms. This stp includes converting the Empathy class values from the range of 1.0 to 5.0, to a binary value. For this, we'll map values (1.0, 2.0, 3.0) to 0.0, which represents 'not very empathetic' and values (4.0, 5.0) to 1.0 which represents 'very empathetic'. Next we'll discretize the categoricals if in case we have any.  Then we'll separate our class Empathy from the data and drop other columns that were not selected during feature selection. This, concludes our data preparation steps.\n",
    "    </p>"
   ]
  },
  {
   "cell_type": "code",
   "execution_count": 95,
   "metadata": {},
   "outputs": [
    {
     "name": "stdout",
     "output_type": "stream",
     "text": [
      "\tbinarizing class...\n",
      "\tdiscretizing categoricals...\n"
     ]
    },
    {
     "data": {
      "text/html": [
       "<div>\n",
       "<style scoped>\n",
       "    .dataframe tbody tr th:only-of-type {\n",
       "        vertical-align: middle;\n",
       "    }\n",
       "\n",
       "    .dataframe tbody tr th {\n",
       "        vertical-align: top;\n",
       "    }\n",
       "\n",
       "    .dataframe thead th {\n",
       "        text-align: right;\n",
       "    }\n",
       "</style>\n",
       "<table border=\"1\" class=\"dataframe\">\n",
       "  <thead>\n",
       "    <tr style=\"text-align: right;\">\n",
       "      <th></th>\n",
       "      <th>Life struggles</th>\n",
       "      <th>Judgment calls</th>\n",
       "      <th>Cars</th>\n",
       "      <th>Psychology</th>\n",
       "      <th>Fantasy/Fairy tales</th>\n",
       "      <th>Weight</th>\n",
       "      <th>Compassion to animals</th>\n",
       "      <th>Friends versus money</th>\n",
       "      <th>Reading</th>\n",
       "    </tr>\n",
       "  </thead>\n",
       "  <tbody>\n",
       "    <tr>\n",
       "      <th>1009</th>\n",
       "      <td>2.0</td>\n",
       "      <td>5.0</td>\n",
       "      <td>3.0</td>\n",
       "      <td>3.0</td>\n",
       "      <td>4.0</td>\n",
       "      <td>1.250000</td>\n",
       "      <td>5.0</td>\n",
       "      <td>4.0</td>\n",
       "      <td>1.0</td>\n",
       "    </tr>\n",
       "    <tr>\n",
       "      <th>496</th>\n",
       "      <td>4.0</td>\n",
       "      <td>3.0</td>\n",
       "      <td>2.0</td>\n",
       "      <td>3.0</td>\n",
       "      <td>5.0</td>\n",
       "      <td>0.443548</td>\n",
       "      <td>5.0</td>\n",
       "      <td>5.0</td>\n",
       "      <td>3.0</td>\n",
       "    </tr>\n",
       "    <tr>\n",
       "      <th>322</th>\n",
       "      <td>1.0</td>\n",
       "      <td>4.0</td>\n",
       "      <td>3.0</td>\n",
       "      <td>2.0</td>\n",
       "      <td>5.0</td>\n",
       "      <td>0.362903</td>\n",
       "      <td>3.0</td>\n",
       "      <td>3.0</td>\n",
       "      <td>3.0</td>\n",
       "    </tr>\n",
       "    <tr>\n",
       "      <th>623</th>\n",
       "      <td>3.0</td>\n",
       "      <td>5.0</td>\n",
       "      <td>3.0</td>\n",
       "      <td>2.0</td>\n",
       "      <td>5.0</td>\n",
       "      <td>1.169355</td>\n",
       "      <td>4.0</td>\n",
       "      <td>5.0</td>\n",
       "      <td>1.0</td>\n",
       "    </tr>\n",
       "    <tr>\n",
       "      <th>473</th>\n",
       "      <td>1.0</td>\n",
       "      <td>5.0</td>\n",
       "      <td>4.0</td>\n",
       "      <td>3.0</td>\n",
       "      <td>4.0</td>\n",
       "      <td>0.927419</td>\n",
       "      <td>5.0</td>\n",
       "      <td>2.0</td>\n",
       "      <td>5.0</td>\n",
       "    </tr>\n",
       "  </tbody>\n",
       "</table>\n",
       "</div>"
      ],
      "text/plain": [
       "      Life struggles  Judgment calls  Cars  Psychology  Fantasy/Fairy tales  \\\n",
       "1009             2.0             5.0   3.0         3.0                  4.0   \n",
       "496              4.0             3.0   2.0         3.0                  5.0   \n",
       "322              1.0             4.0   3.0         2.0                  5.0   \n",
       "623              3.0             5.0   3.0         2.0                  5.0   \n",
       "473              1.0             5.0   4.0         3.0                  4.0   \n",
       "\n",
       "        Weight  Compassion to animals  Friends versus money  Reading  \n",
       "1009  1.250000                    5.0                   4.0      1.0  \n",
       "496   0.443548                    5.0                   5.0      3.0  \n",
       "322   0.362903                    3.0                   3.0      3.0  \n",
       "623   1.169355                    4.0                   5.0      1.0  \n",
       "473   0.927419                    5.0                   2.0      5.0  "
      ]
     },
     "execution_count": 95,
     "metadata": {},
     "output_type": "execute_result"
    }
   ],
   "source": [
    "train_df, y_train = preprocessor.data_wrangle(cols, train_df)\n",
    "train_df.head()"
   ]
  },
  {
   "cell_type": "code",
   "execution_count": 96,
   "metadata": {},
   "outputs": [
    {
     "data": {
      "text/plain": [
       "1009    1.0\n",
       "496     1.0\n",
       "322     1.0\n",
       "623     1.0\n",
       "473     1.0\n",
       "Name: Empathy, dtype: float64"
      ]
     },
     "execution_count": 96,
     "metadata": {},
     "output_type": "execute_result"
    }
   ],
   "source": [
    "y_train.head()"
   ]
  },
  {
   "cell_type": "code",
   "execution_count": 97,
   "metadata": {},
   "outputs": [
    {
     "name": "stdout",
     "output_type": "stream",
     "text": [
      "\tbinarizing class...\n",
      "\tdiscretizing categoricals...\n"
     ]
    },
    {
     "data": {
      "text/html": [
       "<div>\n",
       "<style scoped>\n",
       "    .dataframe tbody tr th:only-of-type {\n",
       "        vertical-align: middle;\n",
       "    }\n",
       "\n",
       "    .dataframe tbody tr th {\n",
       "        vertical-align: top;\n",
       "    }\n",
       "\n",
       "    .dataframe thead th {\n",
       "        text-align: right;\n",
       "    }\n",
       "</style>\n",
       "<table border=\"1\" class=\"dataframe\">\n",
       "  <thead>\n",
       "    <tr style=\"text-align: right;\">\n",
       "      <th></th>\n",
       "      <th>Life struggles</th>\n",
       "      <th>Judgment calls</th>\n",
       "      <th>Cars</th>\n",
       "      <th>Psychology</th>\n",
       "      <th>Fantasy/Fairy tales</th>\n",
       "      <th>Weight</th>\n",
       "      <th>Compassion to animals</th>\n",
       "      <th>Friends versus money</th>\n",
       "      <th>Reading</th>\n",
       "    </tr>\n",
       "  </thead>\n",
       "  <tbody>\n",
       "    <tr>\n",
       "      <th>55</th>\n",
       "      <td>2.0</td>\n",
       "      <td>5.0</td>\n",
       "      <td>2.0</td>\n",
       "      <td>5.0</td>\n",
       "      <td>4.0</td>\n",
       "      <td>0.161290</td>\n",
       "      <td>5.0</td>\n",
       "      <td>4.0</td>\n",
       "      <td>3.0</td>\n",
       "    </tr>\n",
       "    <tr>\n",
       "      <th>43</th>\n",
       "      <td>3.0</td>\n",
       "      <td>3.0</td>\n",
       "      <td>2.0</td>\n",
       "      <td>4.0</td>\n",
       "      <td>5.0</td>\n",
       "      <td>0.564516</td>\n",
       "      <td>3.0</td>\n",
       "      <td>5.0</td>\n",
       "      <td>3.0</td>\n",
       "    </tr>\n",
       "    <tr>\n",
       "      <th>548</th>\n",
       "      <td>5.0</td>\n",
       "      <td>5.0</td>\n",
       "      <td>2.0</td>\n",
       "      <td>5.0</td>\n",
       "      <td>3.0</td>\n",
       "      <td>0.443548</td>\n",
       "      <td>3.0</td>\n",
       "      <td>3.0</td>\n",
       "      <td>1.0</td>\n",
       "    </tr>\n",
       "    <tr>\n",
       "      <th>790</th>\n",
       "      <td>2.0</td>\n",
       "      <td>1.0</td>\n",
       "      <td>1.0</td>\n",
       "      <td>4.0</td>\n",
       "      <td>2.0</td>\n",
       "      <td>0.766129</td>\n",
       "      <td>2.0</td>\n",
       "      <td>1.0</td>\n",
       "      <td>2.0</td>\n",
       "    </tr>\n",
       "    <tr>\n",
       "      <th>926</th>\n",
       "      <td>1.0</td>\n",
       "      <td>4.0</td>\n",
       "      <td>5.0</td>\n",
       "      <td>1.0</td>\n",
       "      <td>3.0</td>\n",
       "      <td>1.169355</td>\n",
       "      <td>4.0</td>\n",
       "      <td>4.0</td>\n",
       "      <td>2.0</td>\n",
       "    </tr>\n",
       "  </tbody>\n",
       "</table>\n",
       "</div>"
      ],
      "text/plain": [
       "     Life struggles  Judgment calls  Cars  Psychology  Fantasy/Fairy tales  \\\n",
       "55              2.0             5.0   2.0         5.0                  4.0   \n",
       "43              3.0             3.0   2.0         4.0                  5.0   \n",
       "548             5.0             5.0   2.0         5.0                  3.0   \n",
       "790             2.0             1.0   1.0         4.0                  2.0   \n",
       "926             1.0             4.0   5.0         1.0                  3.0   \n",
       "\n",
       "       Weight  Compassion to animals  Friends versus money  Reading  \n",
       "55   0.161290                    5.0                   4.0      3.0  \n",
       "43   0.564516                    3.0                   5.0      3.0  \n",
       "548  0.443548                    3.0                   3.0      1.0  \n",
       "790  0.766129                    2.0                   1.0      2.0  \n",
       "926  1.169355                    4.0                   4.0      2.0  "
      ]
     },
     "execution_count": 97,
     "metadata": {},
     "output_type": "execute_result"
    }
   ],
   "source": [
    "dev_df, y_dev = preprocessor.data_wrangle(cols, dev_df)\n",
    "dev_df.head()"
   ]
  },
  {
   "cell_type": "code",
   "execution_count": 98,
   "metadata": {},
   "outputs": [
    {
     "data": {
      "text/plain": [
       "55     1.0\n",
       "43     1.0\n",
       "548    1.0\n",
       "790    0.0\n",
       "926    1.0\n",
       "Name: Empathy, dtype: float64"
      ]
     },
     "execution_count": 98,
     "metadata": {},
     "output_type": "execute_result"
    }
   ],
   "source": [
    "y_dev.head()"
   ]
  },
  {
   "cell_type": "code",
   "execution_count": 99,
   "metadata": {},
   "outputs": [
    {
     "name": "stdout",
     "output_type": "stream",
     "text": [
      "\tbinarizing class...\n",
      "\tdiscretizing categoricals...\n"
     ]
    },
    {
     "data": {
      "text/html": [
       "<div>\n",
       "<style scoped>\n",
       "    .dataframe tbody tr th:only-of-type {\n",
       "        vertical-align: middle;\n",
       "    }\n",
       "\n",
       "    .dataframe tbody tr th {\n",
       "        vertical-align: top;\n",
       "    }\n",
       "\n",
       "    .dataframe thead th {\n",
       "        text-align: right;\n",
       "    }\n",
       "</style>\n",
       "<table border=\"1\" class=\"dataframe\">\n",
       "  <thead>\n",
       "    <tr style=\"text-align: right;\">\n",
       "      <th></th>\n",
       "      <th>Life struggles</th>\n",
       "      <th>Judgment calls</th>\n",
       "      <th>Cars</th>\n",
       "      <th>Psychology</th>\n",
       "      <th>Fantasy/Fairy tales</th>\n",
       "      <th>Weight</th>\n",
       "      <th>Compassion to animals</th>\n",
       "      <th>Friends versus money</th>\n",
       "      <th>Reading</th>\n",
       "    </tr>\n",
       "  </thead>\n",
       "  <tbody>\n",
       "    <tr>\n",
       "      <th>257</th>\n",
       "      <td>1.0</td>\n",
       "      <td>4.0</td>\n",
       "      <td>5.0</td>\n",
       "      <td>2.0</td>\n",
       "      <td>4.0</td>\n",
       "      <td>0.967742</td>\n",
       "      <td>2.0</td>\n",
       "      <td>4.0</td>\n",
       "      <td>1.0</td>\n",
       "    </tr>\n",
       "    <tr>\n",
       "      <th>540</th>\n",
       "      <td>3.0</td>\n",
       "      <td>5.0</td>\n",
       "      <td>5.0</td>\n",
       "      <td>4.0</td>\n",
       "      <td>5.0</td>\n",
       "      <td>1.491935</td>\n",
       "      <td>5.0</td>\n",
       "      <td>4.0</td>\n",
       "      <td>4.0</td>\n",
       "    </tr>\n",
       "    <tr>\n",
       "      <th>317</th>\n",
       "      <td>1.0</td>\n",
       "      <td>1.0</td>\n",
       "      <td>4.0</td>\n",
       "      <td>1.0</td>\n",
       "      <td>3.0</td>\n",
       "      <td>0.967742</td>\n",
       "      <td>5.0</td>\n",
       "      <td>5.0</td>\n",
       "      <td>3.0</td>\n",
       "    </tr>\n",
       "    <tr>\n",
       "      <th>596</th>\n",
       "      <td>3.0</td>\n",
       "      <td>3.0</td>\n",
       "      <td>2.0</td>\n",
       "      <td>4.0</td>\n",
       "      <td>4.0</td>\n",
       "      <td>0.766129</td>\n",
       "      <td>3.0</td>\n",
       "      <td>5.0</td>\n",
       "      <td>1.0</td>\n",
       "    </tr>\n",
       "    <tr>\n",
       "      <th>164</th>\n",
       "      <td>4.0</td>\n",
       "      <td>5.0</td>\n",
       "      <td>1.0</td>\n",
       "      <td>3.0</td>\n",
       "      <td>3.0</td>\n",
       "      <td>0.766129</td>\n",
       "      <td>5.0</td>\n",
       "      <td>2.0</td>\n",
       "      <td>4.0</td>\n",
       "    </tr>\n",
       "  </tbody>\n",
       "</table>\n",
       "</div>"
      ],
      "text/plain": [
       "     Life struggles  Judgment calls  Cars  Psychology  Fantasy/Fairy tales  \\\n",
       "257             1.0             4.0   5.0         2.0                  4.0   \n",
       "540             3.0             5.0   5.0         4.0                  5.0   \n",
       "317             1.0             1.0   4.0         1.0                  3.0   \n",
       "596             3.0             3.0   2.0         4.0                  4.0   \n",
       "164             4.0             5.0   1.0         3.0                  3.0   \n",
       "\n",
       "       Weight  Compassion to animals  Friends versus money  Reading  \n",
       "257  0.967742                    2.0                   4.0      1.0  \n",
       "540  1.491935                    5.0                   4.0      4.0  \n",
       "317  0.967742                    5.0                   5.0      3.0  \n",
       "596  0.766129                    3.0                   5.0      1.0  \n",
       "164  0.766129                    5.0                   2.0      4.0  "
      ]
     },
     "execution_count": 99,
     "metadata": {},
     "output_type": "execute_result"
    }
   ],
   "source": [
    "test_df, y_test = preprocessor.data_wrangle(cols, test_df)\n",
    "test_df.head()"
   ]
  },
  {
   "cell_type": "code",
   "execution_count": 100,
   "metadata": {},
   "outputs": [
    {
     "data": {
      "text/plain": [
       "257    1.0\n",
       "540    1.0\n",
       "317    1.0\n",
       "596    0.0\n",
       "164    1.0\n",
       "Name: Empathy, dtype: float64"
      ]
     },
     "execution_count": 100,
     "metadata": {},
     "output_type": "execute_result"
    }
   ],
   "source": [
    "y_test.head()"
   ]
  },
  {
   "cell_type": "markdown",
   "metadata": {},
   "source": [
    "<h3>Baseline model</h3>\n",
    "    <p>Now that we have selected relevant features and prepared our data for training, let's build our predictors. First, we need a baseline model that sets the lowest standard for comparison with other models that we will build later. For the baseline model we'll use a dummy classifier that always predict the majority label for the class Empathy.\n",
    "    </p>"
   ]
  },
  {
   "cell_type": "code",
   "execution_count": 252,
   "metadata": {},
   "outputs": [
    {
     "name": "stdout",
     "output_type": "stream",
     "text": [
      "\ttraining DummyClassifier...\n",
      "\tDummyClassifier(constant=None, random_state=0, strategy='most_frequent')\n"
     ]
    },
    {
     "data": {
      "text/plain": [
       "DummyClassifier(constant=None, random_state=0, strategy='most_frequent')"
      ]
     },
     "execution_count": 252,
     "metadata": {},
     "output_type": "execute_result"
    }
   ],
   "source": [
    "clf = train.train_dummy(train_df, y_train, strategy='most_frequent', random_state=0)\n",
    "clf"
   ]
  },
  {
   "cell_type": "markdown",
   "metadata": {},
   "source": [
    "Let's check how well this classifier does on training, validation and test data."
   ]
  },
  {
   "cell_type": "code",
   "execution_count": 253,
   "metadata": {},
   "outputs": [
    {
     "name": "stdout",
     "output_type": "stream",
     "text": [
      "train data accuracy: 66.17%\n"
     ]
    }
   ],
   "source": [
    "y_pred_trn = clf.predict(train_df)\n",
    "print('train data accuracy: {:.2f}%'.format(accuracy_score(y_train, y_pred_trn) * 100))"
   ]
  },
  {
   "cell_type": "code",
   "execution_count": 254,
   "metadata": {},
   "outputs": [
    {
     "name": "stdout",
     "output_type": "stream",
     "text": [
      "dev data accuracy: 69.31%\n"
     ]
    }
   ],
   "source": [
    "y_pred_dev = clf.predict(dev_df)\n",
    "print('dev data accuracy: {:.2f}%'.format(accuracy_score(y_dev, y_pred_dev) * 100))"
   ]
  },
  {
   "cell_type": "code",
   "execution_count": 255,
   "metadata": {},
   "outputs": [
    {
     "name": "stdout",
     "output_type": "stream",
     "text": [
      "test data accuracy: 63.86%\n"
     ]
    }
   ],
   "source": [
    "y_pred_tst = clf.predict(test_df)\n",
    "print('test data accuracy: {:.2f}%'.format(accuracy_score(y_test, y_pred_tst) * 100))"
   ]
  },
  {
   "cell_type": "markdown",
   "metadata": {},
   "source": [
    "<h3>The Decision Tree Classifier</h3>\n",
    "    <p>Now that we have established the baseline model, let's look at another model that is better than the dummy classifier, the Decision Tree classifier. This model can predict the value of a class variable by learning simple decision rules inferred from the data features. One of the parameters for decision tree is max depth which we'll set to some value say 10.\n",
    "    </p>"
   ]
  },
  {
   "cell_type": "code",
   "execution_count": 292,
   "metadata": {},
   "outputs": [
    {
     "name": "stdout",
     "output_type": "stream",
     "text": [
      "\ttraining DecisionTreeClassifier...\n",
      "\tDecisionTreeClassifier(class_weight=None, criterion='gini', max_depth=5,\n",
      "            max_features=None, max_leaf_nodes=None,\n",
      "            min_impurity_decrease=0.0, min_impurity_split=None,\n",
      "            min_samples_leaf=1, min_samples_split=2,\n",
      "            min_weight_fraction_leaf=0.0, presort=False, random_state=0,\n",
      "            splitter='best')\n"
     ]
    },
    {
     "data": {
      "text/plain": [
       "DecisionTreeClassifier(class_weight=None, criterion='gini', max_depth=5,\n",
       "            max_features=None, max_leaf_nodes=None,\n",
       "            min_impurity_decrease=0.0, min_impurity_split=None,\n",
       "            min_samples_leaf=1, min_samples_split=2,\n",
       "            min_weight_fraction_leaf=0.0, presort=False, random_state=0,\n",
       "            splitter='best')"
      ]
     },
     "execution_count": 292,
     "metadata": {},
     "output_type": "execute_result"
    }
   ],
   "source": [
    "from importlib import reload\n",
    "reload(train)\n",
    "clf = train.train_decision_tree(train_df, y_train, max_depth=10, random_state=0)\n",
    "clf"
   ]
  },
  {
   "cell_type": "code",
   "execution_count": 259,
   "metadata": {},
   "outputs": [
    {
     "name": "stdout",
     "output_type": "stream",
     "text": [
      "train data accuracy: 93.56%\n"
     ]
    }
   ],
   "source": [
    "y_pred_trn = clf.predict(train_df)\n",
    "print('train data accuracy: {:.2f}%'.format(accuracy_score(y_train, y_pred_trn) * 100))"
   ]
  },
  {
   "cell_type": "code",
   "execution_count": 261,
   "metadata": {},
   "outputs": [
    {
     "name": "stdout",
     "output_type": "stream",
     "text": [
      "dev data accuracy: 69.31%\n"
     ]
    }
   ],
   "source": [
    "y_pred_dev = clf.predict(dev_df)\n",
    "print('dev data accuracy: {:.2f}%'.format(accuracy_score(y_dev, y_pred_dev) * 100))"
   ]
  },
  {
   "cell_type": "code",
   "execution_count": 263,
   "metadata": {},
   "outputs": [
    {
     "name": "stdout",
     "output_type": "stream",
     "text": [
      "test data accuracy: 64.36%\n"
     ]
    }
   ],
   "source": [
    "y_pred_tst = clf.predict(test_df)\n",
    "print('test data accuracy: {:.2f}%'.format(accuracy_score(y_test, y_pred_tst) * 100))"
   ]
  },
  {
   "cell_type": "markdown",
   "metadata": {},
   "source": [
    "<h3>Decision Tree Hyperparameter tuning</h3>\n",
    "    <p>The hyperparameter that we are going to tune for decision tree is its max_depth. We'll run the decision tree classifier with different max_depth settings ranging from 1 to 5 (recommended to set lowest max_depth to avoid overfitting) on the validation set and choose the one that gives us the best accuracy score.\n",
    "    </p>"
   ]
  },
  {
   "cell_type": "code",
   "execution_count": 266,
   "metadata": {
    "scrolled": true
   },
   "outputs": [
    {
     "name": "stdout",
     "output_type": "stream",
     "text": [
      "Best tuned score: 0.6683168316831684\n",
      "max_depth: 2.0\n",
      "random_state: 0\n"
     ]
    }
   ],
   "source": [
    "parameters = {'max_depth': np.linspace(2, 5, 1, endpoint=True), 'random_state': [0]}\n",
    "tuner.hyperparam_tune(clf, parameters, dev_df, train_df, y_dev, y_train)"
   ]
  },
  {
   "cell_type": "markdown",
   "metadata": {},
   "source": [
    "Let's now set the hyperparameter max_depth =1 based on the result obtained from tuning."
   ]
  },
  {
   "cell_type": "code",
   "execution_count": 280,
   "metadata": {},
   "outputs": [
    {
     "name": "stdout",
     "output_type": "stream",
     "text": [
      "\ttraining DecisionTreeClassifier...\n",
      "\tDecisionTreeClassifier(class_weight=None, criterion='gini', max_depth=2,\n",
      "            max_features=None, max_leaf_nodes=None,\n",
      "            min_impurity_decrease=0.0, min_impurity_split=None,\n",
      "            min_samples_leaf=1, min_samples_split=2,\n",
      "            min_weight_fraction_leaf=0.0, presort=False, random_state=0,\n",
      "            splitter='best')\n"
     ]
    },
    {
     "data": {
      "text/plain": [
       "DecisionTreeClassifier(class_weight=None, criterion='gini', max_depth=2,\n",
       "            max_features=None, max_leaf_nodes=None,\n",
       "            min_impurity_decrease=0.0, min_impurity_split=None,\n",
       "            min_samples_leaf=1, min_samples_split=2,\n",
       "            min_weight_fraction_leaf=0.0, presort=False, random_state=0,\n",
       "            splitter='best')"
      ]
     },
     "execution_count": 280,
     "metadata": {},
     "output_type": "execute_result"
    }
   ],
   "source": [
    "from importlib import reload\n",
    "reload(train)\n",
    "clf = train.train_decision_tree(train_df, y_train, max_depth=2, random_state=0)\n",
    "clf"
   ]
  },
  {
   "cell_type": "code",
   "execution_count": 281,
   "metadata": {},
   "outputs": [
    {
     "name": "stdout",
     "output_type": "stream",
     "text": [
      "train data accuracy: 69.47%\n"
     ]
    }
   ],
   "source": [
    "y_pred_trn = clf.predict(train_df)\n",
    "print('train data accuracy: {:.2f}%'.format(accuracy_score(y_train, y_pred_trn) * 100))"
   ]
  },
  {
   "cell_type": "code",
   "execution_count": 282,
   "metadata": {},
   "outputs": [
    {
     "name": "stdout",
     "output_type": "stream",
     "text": [
      "dev data accuracy: 66.83%\n"
     ]
    }
   ],
   "source": [
    "y_pred_dev = clf.predict(dev_df)\n",
    "print('dev data accuracy: {:.2f}%'.format(accuracy_score(y_dev, y_pred_dev) * 100))"
   ]
  },
  {
   "cell_type": "code",
   "execution_count": 283,
   "metadata": {},
   "outputs": [
    {
     "name": "stdout",
     "output_type": "stream",
     "text": [
      "test data accuracy: 67.82%\n"
     ]
    }
   ],
   "source": [
    "y_pred_tst = clf.predict(test_df)\n",
    "print('test data accuracy: {:.2f}%'.format(accuracy_score(y_test, y_pred_tst) * 100))"
   ]
  },
  {
   "cell_type": "markdown",
   "metadata": {},
   "source": [
    "Let's see what are the decision rules that our model learned,"
   ]
  },
  {
   "cell_type": "code",
   "execution_count": 288,
   "metadata": {
    "scrolled": false
   },
   "outputs": [
    {
     "data": {
      "image/svg+xml": [
       "<?xml version=\"1.0\" encoding=\"UTF-8\" standalone=\"no\"?>\n",
       "<!DOCTYPE svg PUBLIC \"-//W3C//DTD SVG 1.1//EN\"\n",
       " \"http://www.w3.org/Graphics/SVG/1.1/DTD/svg11.dtd\">\n",
       "<!-- Generated by graphviz version 2.40.1 (20161225.0304)\n",
       " -->\n",
       "<!-- Title: Tree Pages: 1 -->\n",
       "<svg width=\"714pt\" height=\"314pt\"\n",
       " viewBox=\"0.00 0.00 714.00 314.00\" xmlns=\"http://www.w3.org/2000/svg\" xmlns:xlink=\"http://www.w3.org/1999/xlink\">\n",
       "<g id=\"graph0\" class=\"graph\" transform=\"scale(1 1) rotate(0) translate(4 310)\">\n",
       "<title>Tree</title>\n",
       "<polygon fill=\"#ffffff\" stroke=\"transparent\" points=\"-4,4 -4,-310 710,-310 710,4 -4,4\"/>\n",
       "<!-- 0 -->\n",
       "<g id=\"node1\" class=\"node\">\n",
       "<title>0</title>\n",
       "<path fill=\"#399de5\" fill-opacity=\"0.490196\" stroke=\"#000000\" d=\"M423,-306C423,-306 282,-306 282,-306 276,-306 270,-300 270,-294 270,-294 270,-235 270,-235 270,-229 276,-223 282,-223 282,-223 423,-223 423,-223 429,-223 435,-229 435,-235 435,-235 435,-294 435,-294 435,-300 429,-306 423,-306\"/>\n",
       "<text text-anchor=\"start\" x=\"278\" y=\"-290.8\" font-family=\"Helvetica,sans-Serif\" font-size=\"14.00\" fill=\"#000000\">Judgment calls ≤ 3.5</text>\n",
       "<text text-anchor=\"start\" x=\"308.5\" y=\"-275.8\" font-family=\"Helvetica,sans-Serif\" font-size=\"14.00\" fill=\"#000000\">gini = 0.448</text>\n",
       "<text text-anchor=\"start\" x=\"298\" y=\"-260.8\" font-family=\"Helvetica,sans-Serif\" font-size=\"14.00\" fill=\"#000000\">samples = 606</text>\n",
       "<text text-anchor=\"start\" x=\"285.5\" y=\"-245.8\" font-family=\"Helvetica,sans-Serif\" font-size=\"14.00\" fill=\"#000000\">value = [205, 401]</text>\n",
       "<text text-anchor=\"start\" x=\"279\" y=\"-230.8\" font-family=\"Helvetica,sans-Serif\" font-size=\"14.00\" fill=\"#000000\">class = Empathy:1.0</text>\n",
       "</g>\n",
       "<!-- 1 -->\n",
       "<g id=\"node2\" class=\"node\">\n",
       "<title>1</title>\n",
       "<path fill=\"transparent\" stroke=\"#000000\" d=\"M332,-187C332,-187 193,-187 193,-187 187,-187 181,-181 181,-175 181,-175 181,-116 181,-116 181,-110 187,-104 193,-104 193,-104 332,-104 332,-104 338,-104 344,-110 344,-116 344,-116 344,-175 344,-175 344,-181 338,-187 332,-187\"/>\n",
       "<text text-anchor=\"start\" x=\"206.5\" y=\"-171.8\" font-family=\"Helvetica,sans-Serif\" font-size=\"14.00\" fill=\"#000000\">Weight ≤ 0.544</text>\n",
       "<text text-anchor=\"start\" x=\"227.5\" y=\"-156.8\" font-family=\"Helvetica,sans-Serif\" font-size=\"14.00\" fill=\"#000000\">gini = 0.5</text>\n",
       "<text text-anchor=\"start\" x=\"208\" y=\"-141.8\" font-family=\"Helvetica,sans-Serif\" font-size=\"14.00\" fill=\"#000000\">samples = 194</text>\n",
       "<text text-anchor=\"start\" x=\"204.5\" y=\"-126.8\" font-family=\"Helvetica,sans-Serif\" font-size=\"14.00\" fill=\"#000000\">value = [97, 97]</text>\n",
       "<text text-anchor=\"start\" x=\"189\" y=\"-111.8\" font-family=\"Helvetica,sans-Serif\" font-size=\"14.00\" fill=\"#000000\">class = Empathy:0.0</text>\n",
       "</g>\n",
       "<!-- 0&#45;&gt;1 -->\n",
       "<g id=\"edge1\" class=\"edge\">\n",
       "<title>0&#45;&gt;1</title>\n",
       "<path fill=\"none\" stroke=\"#000000\" d=\"M321.0224,-222.8796C314.3471,-214.0534 307.2342,-204.6485 300.3504,-195.5466\"/>\n",
       "<polygon fill=\"#000000\" stroke=\"#000000\" points=\"302.9357,-193.1626 294.112,-187.2981 297.3526,-197.3852 302.9357,-193.1626\"/>\n",
       "<text text-anchor=\"middle\" x=\"290.676\" y=\"-208.3608\" font-family=\"Helvetica,sans-Serif\" font-size=\"14.00\" fill=\"#000000\">True</text>\n",
       "</g>\n",
       "<!-- 4 -->\n",
       "<g id=\"node5\" class=\"node\">\n",
       "<title>4</title>\n",
       "<path fill=\"#399de5\" fill-opacity=\"0.643137\" stroke=\"#000000\" d=\"M513,-187C513,-187 374,-187 374,-187 368,-187 362,-181 362,-175 362,-175 362,-116 362,-116 362,-110 368,-104 374,-104 374,-104 513,-104 513,-104 519,-104 525,-110 525,-116 525,-116 525,-175 525,-175 525,-181 519,-187 513,-187\"/>\n",
       "<text text-anchor=\"start\" x=\"373\" y=\"-171.8\" font-family=\"Helvetica,sans-Serif\" font-size=\"14.00\" fill=\"#000000\">Life struggles ≤ 1.5</text>\n",
       "<text text-anchor=\"start\" x=\"399.5\" y=\"-156.8\" font-family=\"Helvetica,sans-Serif\" font-size=\"14.00\" fill=\"#000000\">gini = 0.387</text>\n",
       "<text text-anchor=\"start\" x=\"389\" y=\"-141.8\" font-family=\"Helvetica,sans-Serif\" font-size=\"14.00\" fill=\"#000000\">samples = 412</text>\n",
       "<text text-anchor=\"start\" x=\"376.5\" y=\"-126.8\" font-family=\"Helvetica,sans-Serif\" font-size=\"14.00\" fill=\"#000000\">value = [108, 304]</text>\n",
       "<text text-anchor=\"start\" x=\"370\" y=\"-111.8\" font-family=\"Helvetica,sans-Serif\" font-size=\"14.00\" fill=\"#000000\">class = Empathy:1.0</text>\n",
       "</g>\n",
       "<!-- 0&#45;&gt;4 -->\n",
       "<g id=\"edge4\" class=\"edge\">\n",
       "<title>0&#45;&gt;4</title>\n",
       "<path fill=\"none\" stroke=\"#000000\" d=\"M384.3274,-222.8796C391.1457,-213.9633 398.4156,-204.4565 405.4421,-195.268\"/>\n",
       "<polygon fill=\"#000000\" stroke=\"#000000\" points=\"408.2425,-197.3678 411.5368,-187.2981 402.682,-193.1156 408.2425,-197.3678\"/>\n",
       "<text text-anchor=\"middle\" x=\"414.8409\" y=\"-208.3788\" font-family=\"Helvetica,sans-Serif\" font-size=\"14.00\" fill=\"#000000\">False</text>\n",
       "</g>\n",
       "<!-- 2 -->\n",
       "<g id=\"node3\" class=\"node\">\n",
       "<title>2</title>\n",
       "<path fill=\"#399de5\" fill-opacity=\"0.713725\" stroke=\"#000000\" d=\"M151,-68C151,-68 12,-68 12,-68 6,-68 0,-62 0,-56 0,-56 0,-12 0,-12 0,-6 6,0 12,0 12,0 151,0 151,0 157,0 163,-6 163,-12 163,-12 163,-56 163,-56 163,-62 157,-68 151,-68\"/>\n",
       "<text text-anchor=\"start\" x=\"37.5\" y=\"-52.8\" font-family=\"Helvetica,sans-Serif\" font-size=\"14.00\" fill=\"#000000\">gini = 0.346</text>\n",
       "<text text-anchor=\"start\" x=\"31.5\" y=\"-37.8\" font-family=\"Helvetica,sans-Serif\" font-size=\"14.00\" fill=\"#000000\">samples = 36</text>\n",
       "<text text-anchor=\"start\" x=\"28\" y=\"-22.8\" font-family=\"Helvetica,sans-Serif\" font-size=\"14.00\" fill=\"#000000\">value = [8, 28]</text>\n",
       "<text text-anchor=\"start\" x=\"8\" y=\"-7.8\" font-family=\"Helvetica,sans-Serif\" font-size=\"14.00\" fill=\"#000000\">class = Empathy:1.0</text>\n",
       "</g>\n",
       "<!-- 1&#45;&gt;2 -->\n",
       "<g id=\"edge2\" class=\"edge\">\n",
       "<title>1&#45;&gt;2</title>\n",
       "<path fill=\"none\" stroke=\"#000000\" d=\"M195.1023,-103.9815C178.9045,-94.0034 161.6487,-83.3733 145.6055,-73.4904\"/>\n",
       "<polygon fill=\"#000000\" stroke=\"#000000\" points=\"147.1817,-70.3506 136.8318,-68.0856 143.5103,-76.3105 147.1817,-70.3506\"/>\n",
       "</g>\n",
       "<!-- 3 -->\n",
       "<g id=\"node4\" class=\"node\">\n",
       "<title>3</title>\n",
       "<path fill=\"#e58139\" fill-opacity=\"0.223529\" stroke=\"#000000\" d=\"M332,-68C332,-68 193,-68 193,-68 187,-68 181,-62 181,-56 181,-56 181,-12 181,-12 181,-6 187,0 193,0 193,0 332,0 332,0 338,0 344,-6 344,-12 344,-12 344,-56 344,-56 344,-62 338,-68 332,-68\"/>\n",
       "<text text-anchor=\"start\" x=\"218.5\" y=\"-52.8\" font-family=\"Helvetica,sans-Serif\" font-size=\"14.00\" fill=\"#000000\">gini = 0.492</text>\n",
       "<text text-anchor=\"start\" x=\"208\" y=\"-37.8\" font-family=\"Helvetica,sans-Serif\" font-size=\"14.00\" fill=\"#000000\">samples = 158</text>\n",
       "<text text-anchor=\"start\" x=\"204.5\" y=\"-22.8\" font-family=\"Helvetica,sans-Serif\" font-size=\"14.00\" fill=\"#000000\">value = [89, 69]</text>\n",
       "<text text-anchor=\"start\" x=\"189\" y=\"-7.8\" font-family=\"Helvetica,sans-Serif\" font-size=\"14.00\" fill=\"#000000\">class = Empathy:0.0</text>\n",
       "</g>\n",
       "<!-- 1&#45;&gt;3 -->\n",
       "<g id=\"edge3\" class=\"edge\">\n",
       "<title>1&#45;&gt;3</title>\n",
       "<path fill=\"none\" stroke=\"#000000\" d=\"M262.5,-103.9815C262.5,-95.618 262.5,-86.7965 262.5,-78.3409\"/>\n",
       "<polygon fill=\"#000000\" stroke=\"#000000\" points=\"266.0001,-78.2636 262.5,-68.2637 259.0001,-78.2637 266.0001,-78.2636\"/>\n",
       "</g>\n",
       "<!-- 5 -->\n",
       "<g id=\"node6\" class=\"node\">\n",
       "<title>5</title>\n",
       "<path fill=\"#399de5\" fill-opacity=\"0.023529\" stroke=\"#000000\" d=\"M513,-68C513,-68 374,-68 374,-68 368,-68 362,-62 362,-56 362,-56 362,-12 362,-12 362,-6 368,0 374,0 374,0 513,0 513,0 519,0 525,-6 525,-12 525,-12 525,-56 525,-56 525,-62 519,-68 513,-68\"/>\n",
       "<text text-anchor=\"start\" x=\"408.5\" y=\"-52.8\" font-family=\"Helvetica,sans-Serif\" font-size=\"14.00\" fill=\"#000000\">gini = 0.5</text>\n",
       "<text text-anchor=\"start\" x=\"393.5\" y=\"-37.8\" font-family=\"Helvetica,sans-Serif\" font-size=\"14.00\" fill=\"#000000\">samples = 81</text>\n",
       "<text text-anchor=\"start\" x=\"385.5\" y=\"-22.8\" font-family=\"Helvetica,sans-Serif\" font-size=\"14.00\" fill=\"#000000\">value = [40, 41]</text>\n",
       "<text text-anchor=\"start\" x=\"370\" y=\"-7.8\" font-family=\"Helvetica,sans-Serif\" font-size=\"14.00\" fill=\"#000000\">class = Empathy:1.0</text>\n",
       "</g>\n",
       "<!-- 4&#45;&gt;5 -->\n",
       "<g id=\"edge5\" class=\"edge\">\n",
       "<title>4&#45;&gt;5</title>\n",
       "<path fill=\"none\" stroke=\"#000000\" d=\"M443.5,-103.9815C443.5,-95.618 443.5,-86.7965 443.5,-78.3409\"/>\n",
       "<polygon fill=\"#000000\" stroke=\"#000000\" points=\"447.0001,-78.2636 443.5,-68.2637 440.0001,-78.2637 447.0001,-78.2636\"/>\n",
       "</g>\n",
       "<!-- 6 -->\n",
       "<g id=\"node7\" class=\"node\">\n",
       "<title>6</title>\n",
       "<path fill=\"#399de5\" fill-opacity=\"0.741176\" stroke=\"#000000\" d=\"M694,-68C694,-68 555,-68 555,-68 549,-68 543,-62 543,-56 543,-56 543,-12 543,-12 543,-6 549,0 555,0 555,0 694,0 694,0 700,0 706,-6 706,-12 706,-12 706,-56 706,-56 706,-62 700,-68 694,-68\"/>\n",
       "<text text-anchor=\"start\" x=\"580.5\" y=\"-52.8\" font-family=\"Helvetica,sans-Serif\" font-size=\"14.00\" fill=\"#000000\">gini = 0.326</text>\n",
       "<text text-anchor=\"start\" x=\"570\" y=\"-37.8\" font-family=\"Helvetica,sans-Serif\" font-size=\"14.00\" fill=\"#000000\">samples = 331</text>\n",
       "<text text-anchor=\"start\" x=\"562\" y=\"-22.8\" font-family=\"Helvetica,sans-Serif\" font-size=\"14.00\" fill=\"#000000\">value = [68, 263]</text>\n",
       "<text text-anchor=\"start\" x=\"551\" y=\"-7.8\" font-family=\"Helvetica,sans-Serif\" font-size=\"14.00\" fill=\"#000000\">class = Empathy:1.0</text>\n",
       "</g>\n",
       "<!-- 4&#45;&gt;6 -->\n",
       "<g id=\"edge6\" class=\"edge\">\n",
       "<title>4&#45;&gt;6</title>\n",
       "<path fill=\"none\" stroke=\"#000000\" d=\"M510.8977,-103.9815C527.0955,-94.0034 544.3513,-83.3733 560.3945,-73.4904\"/>\n",
       "<polygon fill=\"#000000\" stroke=\"#000000\" points=\"562.4897,-76.3105 569.1682,-68.0856 558.8183,-70.3506 562.4897,-76.3105\"/>\n",
       "</g>\n",
       "</g>\n",
       "</svg>\n"
      ],
      "text/plain": [
       "<graphviz.files.Source at 0x7fc5b915b4e0>"
      ]
     },
     "execution_count": 288,
     "metadata": {},
     "output_type": "execute_result"
    }
   ],
   "source": [
    "from importlib import reload\n",
    "reload(utils)\n",
    "utils.draw_tree(clf, cols)"
   ]
  },
  {
   "cell_type": "markdown",
   "metadata": {},
   "source": [
    "Eventhough, we saw a decrease in accuracy on the dev set, we got a higher accuracy score for the test set with lower max_depth."
   ]
  },
  {
   "cell_type": "markdown",
   "metadata": {},
   "source": [
    "<h3>The Support Vector Classifier</h3>\n",
    "    <p>Let's now try a different classifier, the Support Vector Classifier, which has the folowing hyperparameters,<br>\n",
    "    <pre>\n",
    "    C: Penalty parameter C of the error term.\n",
    "    kernel: kernel function.\n",
    "    degree: Degree of the polynomial kernel function.\n",
    "    gamma: Kernel coefficient.\n",
    "    coef0: Independent term in kernel function.    </pre>\n",
    "    Support Vector Classifier (SVC) is primarily a classier method that performs classification tasks by constructing hyperplanes in a multidimensional space that separates cases of different class labels\n",
    "    </p>"
   ]
  },
  {
   "cell_type": "code",
   "execution_count": 294,
   "metadata": {},
   "outputs": [
    {
     "name": "stdout",
     "output_type": "stream",
     "text": [
      "\ttraining SVC...\n",
      "\tSVC(C=0.1, cache_size=200, class_weight=None, coef0=0.0,\n",
      "  decision_function_shape='ovr', degree=3, gamma='auto_deprecated',\n",
      "  kernel='linear', max_iter=-1, probability=False, random_state=0,\n",
      "  shrinking=True, tol=0.001, verbose=False)\n"
     ]
    },
    {
     "data": {
      "text/plain": [
       "SVC(C=0.1, cache_size=200, class_weight=None, coef0=0.0,\n",
       "  decision_function_shape='ovr', degree=3, gamma='auto_deprecated',\n",
       "  kernel='linear', max_iter=-1, probability=False, random_state=0,\n",
       "  shrinking=True, tol=0.001, verbose=False)"
      ]
     },
     "execution_count": 294,
     "metadata": {},
     "output_type": "execute_result"
    }
   ],
   "source": [
    "from importlib import reload\n",
    "reload(train)\n",
    "clf = train.train_svc(train_df, y_train, C=0.1, kernel='linear', random_state=0)\n",
    "clf"
   ]
  },
  {
   "cell_type": "code",
   "execution_count": 295,
   "metadata": {},
   "outputs": [
    {
     "name": "stdout",
     "output_type": "stream",
     "text": [
      "train data accuracy: 73.43%\n"
     ]
    }
   ],
   "source": [
    "y_pred_trn = clf.predict(train_df)\n",
    "print('train data accuracy: {:.2f}%'.format(accuracy_score(y_train, y_pred_trn) * 100))"
   ]
  },
  {
   "cell_type": "code",
   "execution_count": 296,
   "metadata": {},
   "outputs": [
    {
     "name": "stdout",
     "output_type": "stream",
     "text": [
      "dev data accuracy: 68.81%\n"
     ]
    }
   ],
   "source": [
    "y_pred_dev = clf.predict(dev_df)\n",
    "print('dev data accuracy: {:.2f}%'.format(accuracy_score(y_dev, y_pred_dev) * 100))"
   ]
  },
  {
   "cell_type": "code",
   "execution_count": 297,
   "metadata": {},
   "outputs": [
    {
     "name": "stdout",
     "output_type": "stream",
     "text": [
      "test data accuracy: 69.31%\n"
     ]
    }
   ],
   "source": [
    "y_pred_tst = clf.predict(test_df)\n",
    "print('test data accuracy: {:.2f}%'.format(accuracy_score(y_test, y_pred_tst) * 100))"
   ]
  },
  {
   "cell_type": "markdown",
   "metadata": {},
   "source": [
    "<h3>SVC Hyperparameter tuning</h3>\n",
    "    <p>\n",
    "    </p>"
   ]
  },
  {
   "cell_type": "code",
   "execution_count": 298,
   "metadata": {
    "scrolled": true
   },
   "outputs": [
    {
     "name": "stdout",
     "output_type": "stream",
     "text": [
      "Best tuned score: 0.7326732673267327\n",
      "C: 0.001\n",
      "coef0: 0.4\n",
      "degree: 2\n",
      "gamma: 0.4\n",
      "kernel: 'poly'\n",
      "random_state: 0\n",
      "tol: 0.401\n"
     ]
    }
   ],
   "source": [
    "parameters = {'C': np.arange(0.001, 1.0, 0.1).tolist(),\n",
    "                              'kernel': ['linear', 'poly', 'rbf'],\n",
    "                              'degree': [0, 1, 2],\n",
    "                              'gamma': np.arange(0.0, 1.1, 0.4).tolist(),\n",
    "                              'coef0': np.arange(0.0, 1.1, 0.4).tolist(),\n",
    "                              'tol': np.arange(0.001, 1.1, 0.4).tolist(),\n",
    "                              'random_state': [0]\n",
    "                              }\n",
    "tuner.hyperparam_tune(clf, parameters, dev_df, train_df, y_dev, y_train)"
   ]
  },
  {
   "cell_type": "markdown",
   "metadata": {},
   "source": [
    "Let's now set the hyperparameters based on the result obtained from tuning."
   ]
  },
  {
   "cell_type": "code",
   "execution_count": 337,
   "metadata": {},
   "outputs": [
    {
     "name": "stdout",
     "output_type": "stream",
     "text": [
      "\ttraining SVC...\n",
      "\tSVC(C=0.001, cache_size=200, class_weight=None, coef0=0.4,\n",
      "  decision_function_shape='ovr', degree=2, gamma=0.4, kernel='poly',\n",
      "  max_iter=-1, probability=False, random_state=0, shrinking=True,\n",
      "  tol=0.401, verbose=False)\n"
     ]
    },
    {
     "data": {
      "text/plain": [
       "SVC(C=0.001, cache_size=200, class_weight=None, coef0=0.4,\n",
       "  decision_function_shape='ovr', degree=2, gamma=0.4, kernel='poly',\n",
       "  max_iter=-1, probability=False, random_state=0, shrinking=True,\n",
       "  tol=0.401, verbose=False)"
      ]
     },
     "execution_count": 337,
     "metadata": {},
     "output_type": "execute_result"
    }
   ],
   "source": [
    "from importlib import reload\n",
    "reload(train)\n",
    "clf = train.train_svc(train_df, y_train, C=0.001, kernel='poly', degree=2, gamma=0.4, \n",
    "                      coef0=0.4, tol=0.401, random_state=0)\n",
    "clf"
   ]
  },
  {
   "cell_type": "code",
   "execution_count": 302,
   "metadata": {},
   "outputs": [
    {
     "name": "stdout",
     "output_type": "stream",
     "text": [
      "train data accuracy: 74.92%\n"
     ]
    }
   ],
   "source": [
    "y_pred_trn = clf.predict(train_df)\n",
    "print('train data accuracy: {:.2f}%'.format(accuracy_score(y_train, y_pred_trn) * 100))"
   ]
  },
  {
   "cell_type": "code",
   "execution_count": 300,
   "metadata": {},
   "outputs": [
    {
     "name": "stdout",
     "output_type": "stream",
     "text": [
      "dev data accuracy: 73.27%\n"
     ]
    }
   ],
   "source": [
    "y_pred_dev = clf.predict(dev_df)\n",
    "print('dev data accuracy: {:.2f}%'.format(accuracy_score(y_dev, y_pred_dev) * 100))"
   ]
  },
  {
   "cell_type": "code",
   "execution_count": 301,
   "metadata": {},
   "outputs": [
    {
     "name": "stdout",
     "output_type": "stream",
     "text": [
      "test data accuracy: 69.31%\n"
     ]
    }
   ],
   "source": [
    "y_pred_tst = clf.predict(test_df)\n",
    "print('test data accuracy: {:.2f}%'.format(accuracy_score(y_test, y_pred_tst) * 100))"
   ]
  },
  {
   "cell_type": "markdown",
   "metadata": {},
   "source": [
    "We'll skip the visualization for the decision boundary with 9 features as it is very high dimensional to visualize. Although, after tuning, the dev set gave a better accuracy, the test set showed no improvement."
   ]
  },
  {
   "cell_type": "markdown",
   "metadata": {},
   "source": [
    "<h3>The Random Forest Classifier</h3>\n",
    "    <p>Now let's try a special kind of classifier, the Random Forest Classifier, which is an ensemble method that fits a number of decision tree classifiers on various sub-samples of the dataset and uses averaging to improve the predictive accuracy and control over-fitting. It uses the following hyperparameters,<br>\n",
    "    <pre>\n",
    "    n_estimators: The number of trees in the forest..\n",
    "    max_depth: The maximum depth of the tree.\n",
    "    min_samples_leaf: The minimum number of samples required to be at a leaf node.\n",
    "    max_features: The number of features to consider when looking for the best split.\n",
    "    min_samples_split: The minimum number of samples required to split an internal node.  </pre>\n",
    "    </p>"
   ]
  },
  {
   "cell_type": "code",
   "execution_count": 321,
   "metadata": {},
   "outputs": [
    {
     "name": "stdout",
     "output_type": "stream",
     "text": [
      "\ttraining RandomForestClassifier...\n",
      "\tRandomForestClassifier(bootstrap=True, class_weight=None, criterion='gini',\n",
      "            max_depth=10, max_features='auto', max_leaf_nodes=None,\n",
      "            min_impurity_decrease=0.0, min_impurity_split=None,\n",
      "            min_samples_leaf=1, min_samples_split=2,\n",
      "            min_weight_fraction_leaf=0.0, n_estimators=4, n_jobs=None,\n",
      "            oob_score=False, random_state=0, verbose=0, warm_start=False)\n"
     ]
    },
    {
     "data": {
      "text/plain": [
       "RandomForestClassifier(bootstrap=True, class_weight=None, criterion='gini',\n",
       "            max_depth=10, max_features='auto', max_leaf_nodes=None,\n",
       "            min_impurity_decrease=0.0, min_impurity_split=None,\n",
       "            min_samples_leaf=1, min_samples_split=2,\n",
       "            min_weight_fraction_leaf=0.0, n_estimators=4, n_jobs=None,\n",
       "            oob_score=False, random_state=0, verbose=0, warm_start=False)"
      ]
     },
     "execution_count": 321,
     "metadata": {},
     "output_type": "execute_result"
    }
   ],
   "source": [
    "from importlib import reload\n",
    "reload(train)\n",
    "clf = train.train_random_forest(train_df, y_train, max_depth=10, n_estimators=4, random_state=0)\n",
    "clf"
   ]
  },
  {
   "cell_type": "code",
   "execution_count": 304,
   "metadata": {},
   "outputs": [
    {
     "name": "stdout",
     "output_type": "stream",
     "text": [
      "train data accuracy: 92.57%\n"
     ]
    }
   ],
   "source": [
    "y_pred_trn = clf.predict(train_df)\n",
    "print('train data accuracy: {:.2f}%'.format(accuracy_score(y_train, y_pred_trn) * 100))"
   ]
  },
  {
   "cell_type": "code",
   "execution_count": 305,
   "metadata": {},
   "outputs": [
    {
     "name": "stdout",
     "output_type": "stream",
     "text": [
      "dev data accuracy: 64.85%\n"
     ]
    }
   ],
   "source": [
    "y_pred_dev = clf.predict(dev_df)\n",
    "print('dev data accuracy: {:.2f}%'.format(accuracy_score(y_dev, y_pred_dev) * 100))"
   ]
  },
  {
   "cell_type": "code",
   "execution_count": 306,
   "metadata": {},
   "outputs": [
    {
     "name": "stdout",
     "output_type": "stream",
     "text": [
      "test data accuracy: 64.36%\n"
     ]
    }
   ],
   "source": [
    "y_pred_tst = clf.predict(test_df)\n",
    "print('test data accuracy: {:.2f}%'.format(accuracy_score(y_test, y_pred_tst) * 100))"
   ]
  },
  {
   "cell_type": "markdown",
   "metadata": {},
   "source": [
    "<h3>Random Forest Hyperparameter tuning</h3>\n"
   ]
  },
  {
   "cell_type": "code",
   "execution_count": 203,
   "metadata": {
    "scrolled": true
   },
   "outputs": [
    {
     "name": "stdout",
     "output_type": "stream",
     "text": [
      "Best tuned score: 0.7574257425742574\n",
      "max_depth: 3\n",
      "max_features: 'auto'\n",
      "min_samples_leaf: 20\n",
      "min_samples_split: 2\n",
      "n_estimators: 4\n",
      "random_state: 0\n"
     ]
    }
   ],
   "source": [
    "parameters = {'max_depth': np.arange(1, 10, 1).tolist(),\n",
    "                              'max_features': ['auto', 'sqrt'],\n",
    "                              'min_samples_leaf': [10, 20, 30, 50, 60, 70],\n",
    "                              'min_samples_split': [2, 5, 10, 15],\n",
    "                              'n_estimators': np.arange(2, 20, 1).tolist(),\n",
    "                              'random_state': [0]\n",
    "                              }\n",
    "tuner.hyperparam_tune(clf, parameters, dev_df, train_df, y_dev, y_train)"
   ]
  },
  {
   "cell_type": "markdown",
   "metadata": {},
   "source": [
    "Let's now set the hyperparameter based on the result obtained from tuning."
   ]
  },
  {
   "cell_type": "code",
   "execution_count": 329,
   "metadata": {},
   "outputs": [
    {
     "name": "stdout",
     "output_type": "stream",
     "text": [
      "\ttraining RandomForestClassifier...\n",
      "\tRandomForestClassifier(bootstrap=True, class_weight=None, criterion='gini',\n",
      "            max_depth=3, max_features='auto', max_leaf_nodes=None,\n",
      "            min_impurity_decrease=0.0, min_impurity_split=None,\n",
      "            min_samples_leaf=20, min_samples_split=2,\n",
      "            min_weight_fraction_leaf=0.0, n_estimators=4, n_jobs=None,\n",
      "            oob_score=False, random_state=0, verbose=0, warm_start=False)\n"
     ]
    },
    {
     "data": {
      "text/plain": [
       "RandomForestClassifier(bootstrap=True, class_weight=None, criterion='gini',\n",
       "            max_depth=3, max_features='auto', max_leaf_nodes=None,\n",
       "            min_impurity_decrease=0.0, min_impurity_split=None,\n",
       "            min_samples_leaf=20, min_samples_split=2,\n",
       "            min_weight_fraction_leaf=0.0, n_estimators=4, n_jobs=None,\n",
       "            oob_score=False, random_state=0, verbose=0, warm_start=False)"
      ]
     },
     "execution_count": 329,
     "metadata": {},
     "output_type": "execute_result"
    }
   ],
   "source": [
    "from importlib import reload\n",
    "reload(train)\n",
    "clf = train.train_random_forest(train_df, y_train, max_depth=3, max_features='auto', min_samples_leaf=20,\n",
    "                                      min_samples_split=2,\n",
    "                                      n_estimators=4, random_state=0)\n",
    "clf"
   ]
  },
  {
   "cell_type": "code",
   "execution_count": 330,
   "metadata": {},
   "outputs": [
    {
     "name": "stdout",
     "output_type": "stream",
     "text": [
      "train data accuracy: 70.96%\n"
     ]
    }
   ],
   "source": [
    "y_pred_trn = clf.predict(train_df)\n",
    "print('train data accuracy: {:.2f}%'.format(accuracy_score(y_train, y_pred_trn) * 100))"
   ]
  },
  {
   "cell_type": "code",
   "execution_count": 318,
   "metadata": {},
   "outputs": [
    {
     "name": "stdout",
     "output_type": "stream",
     "text": [
      "dev data accuracy: 75.74%\n"
     ]
    }
   ],
   "source": [
    "y_pred_dev = clf.predict(dev_df)\n",
    "print('dev data accuracy: {:.2f}%'.format(accuracy_score(y_dev, y_pred_dev) * 100))"
   ]
  },
  {
   "cell_type": "code",
   "execution_count": 319,
   "metadata": {},
   "outputs": [
    {
     "name": "stdout",
     "output_type": "stream",
     "text": [
      "test data accuracy: 70.30%\n"
     ]
    }
   ],
   "source": [
    "y_pred_tst = clf.predict(test_df)\n",
    "print('test data accuracy: {:.2f}%'.format(accuracy_score(y_test, y_pred_tst) * 100))"
   ]
  },
  {
   "cell_type": "markdown",
   "metadata": {},
   "source": [
    "Let's see the decision rules learned by the Random Forest model,"
   ]
  },
  {
   "cell_type": "code",
   "execution_count": 336,
   "metadata": {},
   "outputs": [
    {
     "data": {
      "image/svg+xml": [
       "<?xml version=\"1.0\" encoding=\"UTF-8\" standalone=\"no\"?>\n",
       "<!DOCTYPE svg PUBLIC \"-//W3C//DTD SVG 1.1//EN\"\n",
       " \"http://www.w3.org/Graphics/SVG/1.1/DTD/svg11.dtd\">\n",
       "<!-- Generated by graphviz version 2.40.1 (20161225.0304)\n",
       " -->\n",
       "<!-- Title: Tree Pages: 1 -->\n",
       "<svg width=\"1076pt\" height=\"433pt\"\n",
       " viewBox=\"0.00 0.00 1076.00 433.00\" xmlns=\"http://www.w3.org/2000/svg\" xmlns:xlink=\"http://www.w3.org/1999/xlink\">\n",
       "<g id=\"graph0\" class=\"graph\" transform=\"scale(1 1) rotate(0) translate(4 429)\">\n",
       "<title>Tree</title>\n",
       "<polygon fill=\"#ffffff\" stroke=\"transparent\" points=\"-4,4 -4,-429 1072,-429 1072,4 -4,4\"/>\n",
       "<!-- 0 -->\n",
       "<g id=\"node1\" class=\"node\">\n",
       "<title>0</title>\n",
       "<path fill=\"#399de5\" fill-opacity=\"0.498039\" stroke=\"#000000\" d=\"M423,-425C423,-425 282,-425 282,-425 276,-425 270,-419 270,-413 270,-413 270,-354 270,-354 270,-348 276,-342 282,-342 282,-342 423,-342 423,-342 429,-342 435,-348 435,-354 435,-354 435,-413 435,-413 435,-419 429,-425 423,-425\"/>\n",
       "<text text-anchor=\"start\" x=\"278\" y=\"-409.8\" font-family=\"Helvetica,sans-Serif\" font-size=\"14.00\" fill=\"#000000\">Judgment calls ≤ 3.5</text>\n",
       "<text text-anchor=\"start\" x=\"308.5\" y=\"-394.8\" font-family=\"Helvetica,sans-Serif\" font-size=\"14.00\" fill=\"#000000\">gini = 0.444</text>\n",
       "<text text-anchor=\"start\" x=\"298\" y=\"-379.8\" font-family=\"Helvetica,sans-Serif\" font-size=\"14.00\" fill=\"#000000\">samples = 397</text>\n",
       "<text text-anchor=\"start\" x=\"285.5\" y=\"-364.8\" font-family=\"Helvetica,sans-Serif\" font-size=\"14.00\" fill=\"#000000\">value = [202, 404]</text>\n",
       "<text text-anchor=\"start\" x=\"279\" y=\"-349.8\" font-family=\"Helvetica,sans-Serif\" font-size=\"14.00\" fill=\"#000000\">class = Empathy:1.0</text>\n",
       "</g>\n",
       "<!-- 1 -->\n",
       "<g id=\"node2\" class=\"node\">\n",
       "<title>1</title>\n",
       "<path fill=\"#e58139\" fill-opacity=\"0.137255\" stroke=\"#000000\" d=\"M332,-306C332,-306 193,-306 193,-306 187,-306 181,-300 181,-294 181,-294 181,-235 181,-235 181,-229 187,-223 193,-223 193,-223 332,-223 332,-223 338,-223 344,-229 344,-235 344,-235 344,-294 344,-294 344,-300 338,-306 332,-306\"/>\n",
       "<text text-anchor=\"start\" x=\"224.5\" y=\"-290.8\" font-family=\"Helvetica,sans-Serif\" font-size=\"14.00\" fill=\"#000000\">Cars ≤ 1.5</text>\n",
       "<text text-anchor=\"start\" x=\"218.5\" y=\"-275.8\" font-family=\"Helvetica,sans-Serif\" font-size=\"14.00\" fill=\"#000000\">gini = 0.497</text>\n",
       "<text text-anchor=\"start\" x=\"208\" y=\"-260.8\" font-family=\"Helvetica,sans-Serif\" font-size=\"14.00\" fill=\"#000000\">samples = 124</text>\n",
       "<text text-anchor=\"start\" x=\"204.5\" y=\"-245.8\" font-family=\"Helvetica,sans-Serif\" font-size=\"14.00\" fill=\"#000000\">value = [95, 82]</text>\n",
       "<text text-anchor=\"start\" x=\"189\" y=\"-230.8\" font-family=\"Helvetica,sans-Serif\" font-size=\"14.00\" fill=\"#000000\">class = Empathy:0.0</text>\n",
       "</g>\n",
       "<!-- 0&#45;&gt;1 -->\n",
       "<g id=\"edge1\" class=\"edge\">\n",
       "<title>0&#45;&gt;1</title>\n",
       "<path fill=\"none\" stroke=\"#000000\" d=\"M321.0224,-341.8796C314.3471,-333.0534 307.2342,-323.6485 300.3504,-314.5466\"/>\n",
       "<polygon fill=\"#000000\" stroke=\"#000000\" points=\"302.9357,-312.1626 294.112,-306.2981 297.3526,-316.3852 302.9357,-312.1626\"/>\n",
       "<text text-anchor=\"middle\" x=\"290.676\" y=\"-327.3608\" font-family=\"Helvetica,sans-Serif\" font-size=\"14.00\" fill=\"#000000\">True</text>\n",
       "</g>\n",
       "<!-- 6 -->\n",
       "<g id=\"node7\" class=\"node\">\n",
       "<title>6</title>\n",
       "<path fill=\"#399de5\" fill-opacity=\"0.666667\" stroke=\"#000000\" d=\"M589,-306C589,-306 450,-306 450,-306 444,-306 438,-300 438,-294 438,-294 438,-235 438,-235 438,-229 444,-223 450,-223 450,-223 589,-223 589,-223 595,-223 601,-229 601,-235 601,-235 601,-294 601,-294 601,-300 595,-306 589,-306\"/>\n",
       "<text text-anchor=\"start\" x=\"463.5\" y=\"-290.8\" font-family=\"Helvetica,sans-Serif\" font-size=\"14.00\" fill=\"#000000\">Weight ≤ 0.625</text>\n",
       "<text text-anchor=\"start\" x=\"475.5\" y=\"-275.8\" font-family=\"Helvetica,sans-Serif\" font-size=\"14.00\" fill=\"#000000\">gini = 0.374</text>\n",
       "<text text-anchor=\"start\" x=\"465\" y=\"-260.8\" font-family=\"Helvetica,sans-Serif\" font-size=\"14.00\" fill=\"#000000\">samples = 273</text>\n",
       "<text text-anchor=\"start\" x=\"452.5\" y=\"-245.8\" font-family=\"Helvetica,sans-Serif\" font-size=\"14.00\" fill=\"#000000\">value = [107, 322]</text>\n",
       "<text text-anchor=\"start\" x=\"446\" y=\"-230.8\" font-family=\"Helvetica,sans-Serif\" font-size=\"14.00\" fill=\"#000000\">class = Empathy:1.0</text>\n",
       "</g>\n",
       "<!-- 0&#45;&gt;6 -->\n",
       "<g id=\"edge6\" class=\"edge\">\n",
       "<title>0&#45;&gt;6</title>\n",
       "<path fill=\"none\" stroke=\"#000000\" d=\"M410.9085,-341.8796C424.3839,-332.2774 438.8203,-321.9903 452.625,-312.1534\"/>\n",
       "<polygon fill=\"#000000\" stroke=\"#000000\" points=\"455.0117,-314.7505 461.1245,-306.0969 450.9494,-309.0497 455.0117,-314.7505\"/>\n",
       "<text text-anchor=\"middle\" x=\"456.9866\" y=\"-327.0521\" font-family=\"Helvetica,sans-Serif\" font-size=\"14.00\" fill=\"#000000\">False</text>\n",
       "</g>\n",
       "<!-- 2 -->\n",
       "<g id=\"node3\" class=\"node\">\n",
       "<title>2</title>\n",
       "<path fill=\"#399de5\" fill-opacity=\"0.439216\" stroke=\"#000000\" d=\"M151,-179.5C151,-179.5 12,-179.5 12,-179.5 6,-179.5 0,-173.5 0,-167.5 0,-167.5 0,-123.5 0,-123.5 0,-117.5 6,-111.5 12,-111.5 12,-111.5 151,-111.5 151,-111.5 157,-111.5 163,-117.5 163,-123.5 163,-123.5 163,-167.5 163,-167.5 163,-173.5 157,-179.5 151,-179.5\"/>\n",
       "<text text-anchor=\"start\" x=\"42\" y=\"-164.3\" font-family=\"Helvetica,sans-Serif\" font-size=\"14.00\" fill=\"#000000\">gini = 0.46</text>\n",
       "<text text-anchor=\"start\" x=\"31.5\" y=\"-149.3\" font-family=\"Helvetica,sans-Serif\" font-size=\"14.00\" fill=\"#000000\">samples = 40</text>\n",
       "<text text-anchor=\"start\" x=\"23.5\" y=\"-134.3\" font-family=\"Helvetica,sans-Serif\" font-size=\"14.00\" fill=\"#000000\">value = [19, 34]</text>\n",
       "<text text-anchor=\"start\" x=\"8\" y=\"-119.3\" font-family=\"Helvetica,sans-Serif\" font-size=\"14.00\" fill=\"#000000\">class = Empathy:1.0</text>\n",
       "</g>\n",
       "<!-- 1&#45;&gt;2 -->\n",
       "<g id=\"edge2\" class=\"edge\">\n",
       "<title>1&#45;&gt;2</title>\n",
       "<path fill=\"none\" stroke=\"#000000\" d=\"M199.195,-222.8796C180.7097,-210.7263 160.5557,-197.4759 142.2335,-185.4297\"/>\n",
       "<polygon fill=\"#000000\" stroke=\"#000000\" points=\"143.6801,-182.1921 133.4014,-179.623 139.8345,-188.0412 143.6801,-182.1921\"/>\n",
       "</g>\n",
       "<!-- 3 -->\n",
       "<g id=\"node4\" class=\"node\">\n",
       "<title>3</title>\n",
       "<path fill=\"#e58139\" fill-opacity=\"0.368627\" stroke=\"#000000\" d=\"M332,-187C332,-187 193,-187 193,-187 187,-187 181,-181 181,-175 181,-175 181,-116 181,-116 181,-110 187,-104 193,-104 193,-104 332,-104 332,-104 338,-104 344,-110 344,-116 344,-116 344,-175 344,-175 344,-181 338,-187 332,-187\"/>\n",
       "<text text-anchor=\"start\" x=\"206.5\" y=\"-171.8\" font-family=\"Helvetica,sans-Serif\" font-size=\"14.00\" fill=\"#000000\">Weight ≤ 0.927</text>\n",
       "<text text-anchor=\"start\" x=\"218.5\" y=\"-156.8\" font-family=\"Helvetica,sans-Serif\" font-size=\"14.00\" fill=\"#000000\">gini = 0.475</text>\n",
       "<text text-anchor=\"start\" x=\"212.5\" y=\"-141.8\" font-family=\"Helvetica,sans-Serif\" font-size=\"14.00\" fill=\"#000000\">samples = 84</text>\n",
       "<text text-anchor=\"start\" x=\"204.5\" y=\"-126.8\" font-family=\"Helvetica,sans-Serif\" font-size=\"14.00\" fill=\"#000000\">value = [76, 48]</text>\n",
       "<text text-anchor=\"start\" x=\"189\" y=\"-111.8\" font-family=\"Helvetica,sans-Serif\" font-size=\"14.00\" fill=\"#000000\">class = Empathy:0.0</text>\n",
       "</g>\n",
       "<!-- 1&#45;&gt;3 -->\n",
       "<g id=\"edge3\" class=\"edge\">\n",
       "<title>1&#45;&gt;3</title>\n",
       "<path fill=\"none\" stroke=\"#000000\" d=\"M262.5,-222.8796C262.5,-214.6838 262.5,-205.9891 262.5,-197.5013\"/>\n",
       "<polygon fill=\"#000000\" stroke=\"#000000\" points=\"266.0001,-197.298 262.5,-187.2981 259.0001,-197.2981 266.0001,-197.298\"/>\n",
       "</g>\n",
       "<!-- 4 -->\n",
       "<g id=\"node5\" class=\"node\">\n",
       "<title>4</title>\n",
       "<path fill=\"#e58139\" fill-opacity=\"0.078431\" stroke=\"#000000\" d=\"M151,-68C151,-68 12,-68 12,-68 6,-68 0,-62 0,-56 0,-56 0,-12 0,-12 0,-6 6,0 12,0 12,0 151,0 151,0 157,0 163,-6 163,-12 163,-12 163,-56 163,-56 163,-62 157,-68 151,-68\"/>\n",
       "<text text-anchor=\"start\" x=\"37.5\" y=\"-52.8\" font-family=\"Helvetica,sans-Serif\" font-size=\"14.00\" fill=\"#000000\">gini = 0.499</text>\n",
       "<text text-anchor=\"start\" x=\"31.5\" y=\"-37.8\" font-family=\"Helvetica,sans-Serif\" font-size=\"14.00\" fill=\"#000000\">samples = 30</text>\n",
       "<text text-anchor=\"start\" x=\"23.5\" y=\"-22.8\" font-family=\"Helvetica,sans-Serif\" font-size=\"14.00\" fill=\"#000000\">value = [25, 23]</text>\n",
       "<text text-anchor=\"start\" x=\"8\" y=\"-7.8\" font-family=\"Helvetica,sans-Serif\" font-size=\"14.00\" fill=\"#000000\">class = Empathy:0.0</text>\n",
       "</g>\n",
       "<!-- 3&#45;&gt;4 -->\n",
       "<g id=\"edge4\" class=\"edge\">\n",
       "<title>3&#45;&gt;4</title>\n",
       "<path fill=\"none\" stroke=\"#000000\" d=\"M195.1023,-103.9815C178.9045,-94.0034 161.6487,-83.3733 145.6055,-73.4904\"/>\n",
       "<polygon fill=\"#000000\" stroke=\"#000000\" points=\"147.1817,-70.3506 136.8318,-68.0856 143.5103,-76.3105 147.1817,-70.3506\"/>\n",
       "</g>\n",
       "<!-- 5 -->\n",
       "<g id=\"node6\" class=\"node\">\n",
       "<title>5</title>\n",
       "<path fill=\"#e58139\" fill-opacity=\"0.509804\" stroke=\"#000000\" d=\"M332,-68C332,-68 193,-68 193,-68 187,-68 181,-62 181,-56 181,-56 181,-12 181,-12 181,-6 187,0 193,0 193,0 332,0 332,0 338,0 344,-6 344,-12 344,-12 344,-56 344,-56 344,-62 338,-68 332,-68\"/>\n",
       "<text text-anchor=\"start\" x=\"218.5\" y=\"-52.8\" font-family=\"Helvetica,sans-Serif\" font-size=\"14.00\" fill=\"#000000\">gini = 0.441</text>\n",
       "<text text-anchor=\"start\" x=\"212.5\" y=\"-37.8\" font-family=\"Helvetica,sans-Serif\" font-size=\"14.00\" fill=\"#000000\">samples = 54</text>\n",
       "<text text-anchor=\"start\" x=\"204.5\" y=\"-22.8\" font-family=\"Helvetica,sans-Serif\" font-size=\"14.00\" fill=\"#000000\">value = [51, 25]</text>\n",
       "<text text-anchor=\"start\" x=\"189\" y=\"-7.8\" font-family=\"Helvetica,sans-Serif\" font-size=\"14.00\" fill=\"#000000\">class = Empathy:0.0</text>\n",
       "</g>\n",
       "<!-- 3&#45;&gt;5 -->\n",
       "<g id=\"edge5\" class=\"edge\">\n",
       "<title>3&#45;&gt;5</title>\n",
       "<path fill=\"none\" stroke=\"#000000\" d=\"M262.5,-103.9815C262.5,-95.618 262.5,-86.7965 262.5,-78.3409\"/>\n",
       "<polygon fill=\"#000000\" stroke=\"#000000\" points=\"266.0001,-78.2636 262.5,-68.2637 259.0001,-78.2637 266.0001,-78.2636\"/>\n",
       "</g>\n",
       "<!-- 7 -->\n",
       "<g id=\"node8\" class=\"node\">\n",
       "<title>7</title>\n",
       "<path fill=\"#399de5\" fill-opacity=\"0.894118\" stroke=\"#000000\" d=\"M589,-187C589,-187 450,-187 450,-187 444,-187 438,-181 438,-175 438,-175 438,-116 438,-116 438,-110 444,-104 450,-104 450,-104 589,-104 589,-104 595,-104 601,-110 601,-116 601,-116 601,-175 601,-175 601,-181 595,-187 589,-187\"/>\n",
       "<text text-anchor=\"start\" x=\"449\" y=\"-171.8\" font-family=\"Helvetica,sans-Serif\" font-size=\"14.00\" fill=\"#000000\">Life struggles ≤ 3.5</text>\n",
       "<text text-anchor=\"start\" x=\"475.5\" y=\"-156.8\" font-family=\"Helvetica,sans-Serif\" font-size=\"14.00\" fill=\"#000000\">gini = 0.175</text>\n",
       "<text text-anchor=\"start\" x=\"469.5\" y=\"-141.8\" font-family=\"Helvetica,sans-Serif\" font-size=\"14.00\" fill=\"#000000\">samples = 67</text>\n",
       "<text text-anchor=\"start\" x=\"461.5\" y=\"-126.8\" font-family=\"Helvetica,sans-Serif\" font-size=\"14.00\" fill=\"#000000\">value = [10, 93]</text>\n",
       "<text text-anchor=\"start\" x=\"446\" y=\"-111.8\" font-family=\"Helvetica,sans-Serif\" font-size=\"14.00\" fill=\"#000000\">class = Empathy:1.0</text>\n",
       "</g>\n",
       "<!-- 6&#45;&gt;7 -->\n",
       "<g id=\"edge7\" class=\"edge\">\n",
       "<title>6&#45;&gt;7</title>\n",
       "<path fill=\"none\" stroke=\"#000000\" d=\"M519.5,-222.8796C519.5,-214.6838 519.5,-205.9891 519.5,-197.5013\"/>\n",
       "<polygon fill=\"#000000\" stroke=\"#000000\" points=\"523.0001,-197.298 519.5,-187.2981 516.0001,-197.2981 523.0001,-197.298\"/>\n",
       "</g>\n",
       "<!-- 10 -->\n",
       "<g id=\"node11\" class=\"node\">\n",
       "<title>10</title>\n",
       "<path fill=\"#399de5\" fill-opacity=\"0.576471\" stroke=\"#000000\" d=\"M902.5,-187C902.5,-187 708.5,-187 708.5,-187 702.5,-187 696.5,-181 696.5,-175 696.5,-175 696.5,-116 696.5,-116 696.5,-110 702.5,-104 708.5,-104 708.5,-104 902.5,-104 902.5,-104 908.5,-104 914.5,-110 914.5,-116 914.5,-116 914.5,-175 914.5,-175 914.5,-181 908.5,-187 902.5,-187\"/>\n",
       "<text text-anchor=\"start\" x=\"704.5\" y=\"-171.8\" font-family=\"Helvetica,sans-Serif\" font-size=\"14.00\" fill=\"#000000\">Friends versus money ≤ 3.5</text>\n",
       "<text text-anchor=\"start\" x=\"761.5\" y=\"-156.8\" font-family=\"Helvetica,sans-Serif\" font-size=\"14.00\" fill=\"#000000\">gini = 0.418</text>\n",
       "<text text-anchor=\"start\" x=\"751\" y=\"-141.8\" font-family=\"Helvetica,sans-Serif\" font-size=\"14.00\" fill=\"#000000\">samples = 206</text>\n",
       "<text text-anchor=\"start\" x=\"743\" y=\"-126.8\" font-family=\"Helvetica,sans-Serif\" font-size=\"14.00\" fill=\"#000000\">value = [97, 229]</text>\n",
       "<text text-anchor=\"start\" x=\"732\" y=\"-111.8\" font-family=\"Helvetica,sans-Serif\" font-size=\"14.00\" fill=\"#000000\">class = Empathy:1.0</text>\n",
       "</g>\n",
       "<!-- 6&#45;&gt;10 -->\n",
       "<g id=\"edge10\" class=\"edge\">\n",
       "<title>6&#45;&gt;10</title>\n",
       "<path fill=\"none\" stroke=\"#000000\" d=\"M601.0734,-230.5586C630.6768,-218.2411 664.6167,-204.1193 696.2252,-190.9675\"/>\n",
       "<polygon fill=\"#000000\" stroke=\"#000000\" points=\"697.623,-194.1768 705.5111,-187.1038 694.9338,-187.714 697.623,-194.1768\"/>\n",
       "</g>\n",
       "<!-- 8 -->\n",
       "<g id=\"node9\" class=\"node\">\n",
       "<title>8</title>\n",
       "<path fill=\"#399de5\" fill-opacity=\"0.776471\" stroke=\"#000000\" d=\"M513,-68C513,-68 374,-68 374,-68 368,-68 362,-62 362,-56 362,-56 362,-12 362,-12 362,-6 368,0 374,0 374,0 513,0 513,0 519,0 525,-6 525,-12 525,-12 525,-56 525,-56 525,-62 519,-68 513,-68\"/>\n",
       "<text text-anchor=\"start\" x=\"408.5\" y=\"-52.8\" font-family=\"Helvetica,sans-Serif\" font-size=\"14.00\" fill=\"#000000\">gini = 0.3</text>\n",
       "<text text-anchor=\"start\" x=\"393.5\" y=\"-37.8\" font-family=\"Helvetica,sans-Serif\" font-size=\"14.00\" fill=\"#000000\">samples = 29</text>\n",
       "<text text-anchor=\"start\" x=\"390\" y=\"-22.8\" font-family=\"Helvetica,sans-Serif\" font-size=\"14.00\" fill=\"#000000\">value = [9, 40]</text>\n",
       "<text text-anchor=\"start\" x=\"370\" y=\"-7.8\" font-family=\"Helvetica,sans-Serif\" font-size=\"14.00\" fill=\"#000000\">class = Empathy:1.0</text>\n",
       "</g>\n",
       "<!-- 7&#45;&gt;8 -->\n",
       "<g id=\"edge8\" class=\"edge\">\n",
       "<title>7&#45;&gt;8</title>\n",
       "<path fill=\"none\" stroke=\"#000000\" d=\"M491.2004,-103.9815C485.1238,-95.0666 478.6926,-85.6313 472.5868,-76.6734\"/>\n",
       "<polygon fill=\"#000000\" stroke=\"#000000\" points=\"475.3789,-74.5555 466.8546,-68.2637 469.5948,-78.498 475.3789,-74.5555\"/>\n",
       "</g>\n",
       "<!-- 9 -->\n",
       "<g id=\"node10\" class=\"node\">\n",
       "<title>9</title>\n",
       "<path fill=\"#399de5\" fill-opacity=\"0.980392\" stroke=\"#000000\" d=\"M694,-68C694,-68 555,-68 555,-68 549,-68 543,-62 543,-56 543,-56 543,-12 543,-12 543,-6 549,0 555,0 555,0 694,0 694,0 700,0 706,-6 706,-12 706,-12 706,-56 706,-56 706,-62 700,-68 694,-68\"/>\n",
       "<text text-anchor=\"start\" x=\"580.5\" y=\"-52.8\" font-family=\"Helvetica,sans-Serif\" font-size=\"14.00\" fill=\"#000000\">gini = 0.036</text>\n",
       "<text text-anchor=\"start\" x=\"574.5\" y=\"-37.8\" font-family=\"Helvetica,sans-Serif\" font-size=\"14.00\" fill=\"#000000\">samples = 38</text>\n",
       "<text text-anchor=\"start\" x=\"571\" y=\"-22.8\" font-family=\"Helvetica,sans-Serif\" font-size=\"14.00\" fill=\"#000000\">value = [1, 53]</text>\n",
       "<text text-anchor=\"start\" x=\"551\" y=\"-7.8\" font-family=\"Helvetica,sans-Serif\" font-size=\"14.00\" fill=\"#000000\">class = Empathy:1.0</text>\n",
       "</g>\n",
       "<!-- 7&#45;&gt;9 -->\n",
       "<g id=\"edge9\" class=\"edge\">\n",
       "<title>7&#45;&gt;9</title>\n",
       "<path fill=\"none\" stroke=\"#000000\" d=\"M558.5981,-103.9815C567.3396,-94.6989 576.6122,-84.8522 585.3556,-75.5677\"/>\n",
       "<polygon fill=\"#000000\" stroke=\"#000000\" points=\"587.9261,-77.9433 592.2338,-68.2637 582.83,-73.1443 587.9261,-77.9433\"/>\n",
       "</g>\n",
       "<!-- 11 -->\n",
       "<g id=\"node12\" class=\"node\">\n",
       "<title>11</title>\n",
       "<path fill=\"#399de5\" fill-opacity=\"0.254902\" stroke=\"#000000\" d=\"M875,-68C875,-68 736,-68 736,-68 730,-68 724,-62 724,-56 724,-56 724,-12 724,-12 724,-6 730,0 736,0 736,0 875,0 875,0 881,0 887,-6 887,-12 887,-12 887,-56 887,-56 887,-62 881,-68 875,-68\"/>\n",
       "<text text-anchor=\"start\" x=\"761.5\" y=\"-52.8\" font-family=\"Helvetica,sans-Serif\" font-size=\"14.00\" fill=\"#000000\">gini = 0.489</text>\n",
       "<text text-anchor=\"start\" x=\"755.5\" y=\"-37.8\" font-family=\"Helvetica,sans-Serif\" font-size=\"14.00\" fill=\"#000000\">samples = 85</text>\n",
       "<text text-anchor=\"start\" x=\"747.5\" y=\"-22.8\" font-family=\"Helvetica,sans-Serif\" font-size=\"14.00\" fill=\"#000000\">value = [58, 78]</text>\n",
       "<text text-anchor=\"start\" x=\"732\" y=\"-7.8\" font-family=\"Helvetica,sans-Serif\" font-size=\"14.00\" fill=\"#000000\">class = Empathy:1.0</text>\n",
       "</g>\n",
       "<!-- 10&#45;&gt;11 -->\n",
       "<g id=\"edge11\" class=\"edge\">\n",
       "<title>10&#45;&gt;11</title>\n",
       "<path fill=\"none\" stroke=\"#000000\" d=\"M805.5,-103.9815C805.5,-95.618 805.5,-86.7965 805.5,-78.3409\"/>\n",
       "<polygon fill=\"#000000\" stroke=\"#000000\" points=\"809.0001,-78.2636 805.5,-68.2637 802.0001,-78.2637 809.0001,-78.2636\"/>\n",
       "</g>\n",
       "<!-- 12 -->\n",
       "<g id=\"node13\" class=\"node\">\n",
       "<title>12</title>\n",
       "<path fill=\"#399de5\" fill-opacity=\"0.741176\" stroke=\"#000000\" d=\"M1056,-68C1056,-68 917,-68 917,-68 911,-68 905,-62 905,-56 905,-56 905,-12 905,-12 905,-6 911,0 917,0 917,0 1056,0 1056,0 1062,0 1068,-6 1068,-12 1068,-12 1068,-56 1068,-56 1068,-62 1062,-68 1056,-68\"/>\n",
       "<text text-anchor=\"start\" x=\"942.5\" y=\"-52.8\" font-family=\"Helvetica,sans-Serif\" font-size=\"14.00\" fill=\"#000000\">gini = 0.326</text>\n",
       "<text text-anchor=\"start\" x=\"932\" y=\"-37.8\" font-family=\"Helvetica,sans-Serif\" font-size=\"14.00\" fill=\"#000000\">samples = 121</text>\n",
       "<text text-anchor=\"start\" x=\"924\" y=\"-22.8\" font-family=\"Helvetica,sans-Serif\" font-size=\"14.00\" fill=\"#000000\">value = [39, 151]</text>\n",
       "<text text-anchor=\"start\" x=\"913\" y=\"-7.8\" font-family=\"Helvetica,sans-Serif\" font-size=\"14.00\" fill=\"#000000\">class = Empathy:1.0</text>\n",
       "</g>\n",
       "<!-- 10&#45;&gt;12 -->\n",
       "<g id=\"edge12\" class=\"edge\">\n",
       "<title>10&#45;&gt;12</title>\n",
       "<path fill=\"none\" stroke=\"#000000\" d=\"M872.8977,-103.9815C889.0955,-94.0034 906.3513,-83.3733 922.3945,-73.4904\"/>\n",
       "<polygon fill=\"#000000\" stroke=\"#000000\" points=\"924.4897,-76.3105 931.1682,-68.0856 920.8183,-70.3506 924.4897,-76.3105\"/>\n",
       "</g>\n",
       "</g>\n",
       "</svg>\n"
      ],
      "text/plain": [
       "<graphviz.files.Source at 0x7fc5b1e29550>"
      ]
     },
     "execution_count": 336,
     "metadata": {},
     "output_type": "execute_result"
    }
   ],
   "source": [
    "utils.draw_tree(clf.estimators_[3], cols)"
   ]
  },
  {
   "cell_type": "markdown",
   "metadata": {},
   "source": [
    "The test accuracy has improved after tuning and is the highest we have achieved so far."
   ]
  },
  {
   "cell_type": "markdown",
   "metadata": {},
   "source": [
    "<h3>Results</h3>"
   ]
  },
  {
   "cell_type": "markdown",
   "metadata": {},
   "source": [
    "<table align=\"left\" style=\"width:50%\">\n",
    "  <tr>\n",
    "    <th style=\"text-align: left;\">Model</th>\n",
    "    <th style=\"text-align: left;\">Training Accuracy score</th>\n",
    "    <th style=\"text-align: left;\">Dev Accuracy score</th>\n",
    "    <th style=\"text-align: left;\">Test Accuracy score</th>\n",
    "  </tr>\n",
    "  <tr>\n",
    "    <td  style=\"text-align: left;\">Dummy Classifier</td>\n",
    "    <td  style=\"text-align: left;\">66.17%</td>\n",
    "    <td  style=\"text-align: left;\">69.31%</td>\n",
    "    <td  style=\"text-align: left;\">63.86%</td>\n",
    "  </tr>\n",
    "  <tr>\n",
    "    <td  style=\"text-align: left;\">Decision Tree Classifier</td>\n",
    "    <td  style=\"text-align: left;\">69.47%</td>\n",
    "    <td  style=\"text-align: left;\">66.83%</td>\n",
    "    <td  style=\"text-align: left;\">67.82%</td>\n",
    "  </tr>\n",
    "  <tr>\n",
    "    <td  style=\"text-align: left;\">Support Vector Classifier</td>\n",
    "    <td  style=\"text-align: left;\">74.92%</td>\n",
    "    <td  style=\"text-align: left;\">73.27%</td>\n",
    "    <td  style=\"text-align: left;\">69.31%</td>\n",
    "  </tr>\n",
    "  <tr>\n",
    "    <td  style=\"text-align: left;\">Random Forest Classifier</td>\n",
    "    <td  style=\"text-align: left;\">70.96%</td>\n",
    "    <td  style=\"text-align: left;\">75.74%</td>\n",
    "    <td  style=\"text-align: left;\">70.30%</td>\n",
    "  </tr>\n",
    "</table>"
   ]
  },
  {
   "cell_type": "markdown",
   "metadata": {},
   "source": [
    "<p> We can see from the results that the Random Forest Classifier gives the best accuracy on test data and dev data, eventhough there is little overfitting when compared to training accuracy for all the classifiers we've explored. Adjusting the hyperparameters that induce regularization can get us results without overfitting.\n",
    "</p>"
   ]
  },
  {
   "cell_type": "markdown",
   "metadata": {},
   "source": [
    " <h3>Validation set misclassifications</h3>\n",
    "    <p>Our best model, the Random Forest classifier gave us 75.74% accuracy or 24.26% errors on the validation set. Let's find out reasons as to why our model could be making these errors. First, let's look at some specific examples of such misclassifications.\n",
    "    </p>"
   ]
  },
  {
   "cell_type": "code",
   "execution_count": 225,
   "metadata": {},
   "outputs": [
    {
     "data": {
      "text/html": [
       "<div>\n",
       "<style scoped>\n",
       "    .dataframe tbody tr th:only-of-type {\n",
       "        vertical-align: middle;\n",
       "    }\n",
       "\n",
       "    .dataframe tbody tr th {\n",
       "        vertical-align: top;\n",
       "    }\n",
       "\n",
       "    .dataframe thead th {\n",
       "        text-align: right;\n",
       "    }\n",
       "</style>\n",
       "<table border=\"1\" class=\"dataframe\">\n",
       "  <thead>\n",
       "    <tr style=\"text-align: right;\">\n",
       "      <th></th>\n",
       "      <th>Life struggles</th>\n",
       "      <th>Judgment calls</th>\n",
       "      <th>Cars</th>\n",
       "      <th>Psychology</th>\n",
       "      <th>Fantasy/Fairy tales</th>\n",
       "      <th>Weight</th>\n",
       "      <th>Compassion to animals</th>\n",
       "      <th>Friends versus money</th>\n",
       "      <th>Reading</th>\n",
       "      <th>y_dev</th>\n",
       "    </tr>\n",
       "  </thead>\n",
       "  <tbody>\n",
       "    <tr>\n",
       "      <th>0</th>\n",
       "      <td>2.0</td>\n",
       "      <td>1.0</td>\n",
       "      <td>1.0</td>\n",
       "      <td>4.0</td>\n",
       "      <td>2.0</td>\n",
       "      <td>0.766129</td>\n",
       "      <td>2.0</td>\n",
       "      <td>1.0</td>\n",
       "      <td>2.0</td>\n",
       "      <td>0.0</td>\n",
       "    </tr>\n",
       "    <tr>\n",
       "      <th>1</th>\n",
       "      <td>3.0</td>\n",
       "      <td>3.0</td>\n",
       "      <td>1.0</td>\n",
       "      <td>4.0</td>\n",
       "      <td>3.0</td>\n",
       "      <td>0.443548</td>\n",
       "      <td>3.0</td>\n",
       "      <td>3.0</td>\n",
       "      <td>5.0</td>\n",
       "      <td>0.0</td>\n",
       "    </tr>\n",
       "    <tr>\n",
       "      <th>2</th>\n",
       "      <td>4.0</td>\n",
       "      <td>4.0</td>\n",
       "      <td>1.0</td>\n",
       "      <td>4.0</td>\n",
       "      <td>5.0</td>\n",
       "      <td>0.282258</td>\n",
       "      <td>3.0</td>\n",
       "      <td>2.0</td>\n",
       "      <td>3.0</td>\n",
       "      <td>0.0</td>\n",
       "    </tr>\n",
       "    <tr>\n",
       "      <th>3</th>\n",
       "      <td>4.0</td>\n",
       "      <td>3.0</td>\n",
       "      <td>1.0</td>\n",
       "      <td>3.0</td>\n",
       "      <td>5.0</td>\n",
       "      <td>0.887097</td>\n",
       "      <td>3.0</td>\n",
       "      <td>3.0</td>\n",
       "      <td>4.0</td>\n",
       "      <td>0.0</td>\n",
       "    </tr>\n",
       "    <tr>\n",
       "      <th>4</th>\n",
       "      <td>3.0</td>\n",
       "      <td>4.0</td>\n",
       "      <td>1.0</td>\n",
       "      <td>5.0</td>\n",
       "      <td>4.0</td>\n",
       "      <td>0.483871</td>\n",
       "      <td>2.0</td>\n",
       "      <td>4.0</td>\n",
       "      <td>5.0</td>\n",
       "      <td>0.0</td>\n",
       "    </tr>\n",
       "  </tbody>\n",
       "</table>\n",
       "</div>"
      ],
      "text/plain": [
       "   Life struggles  Judgment calls  Cars  Psychology  Fantasy/Fairy tales  \\\n",
       "0             2.0             1.0   1.0         4.0                  2.0   \n",
       "1             3.0             3.0   1.0         4.0                  3.0   \n",
       "2             4.0             4.0   1.0         4.0                  5.0   \n",
       "3             4.0             3.0   1.0         3.0                  5.0   \n",
       "4             3.0             4.0   1.0         5.0                  4.0   \n",
       "\n",
       "     Weight  Compassion to animals  Friends versus money  Reading  y_dev  \n",
       "0  0.766129                    2.0                   1.0      2.0    0.0  \n",
       "1  0.443548                    3.0                   3.0      5.0    0.0  \n",
       "2  0.282258                    3.0                   2.0      3.0    0.0  \n",
       "3  0.887097                    3.0                   3.0      4.0    0.0  \n",
       "4  0.483871                    2.0                   4.0      5.0    0.0  "
      ]
     },
     "execution_count": 225,
     "metadata": {},
     "output_type": "execute_result"
    }
   ],
   "source": [
    "dev_misclf_df = utils.get_dev_misclfs(y_dev, y_pred_dev, dev_df)\n",
    "dev_misclf_df.head()"
   ]
  },
  {
   "cell_type": "markdown",
   "metadata": {},
   "source": [
    "Seems like we might have misclassified majority of the samples from class 0.0. Let's confirm this,"
   ]
  },
  {
   "cell_type": "code",
   "execution_count": 228,
   "metadata": {},
   "outputs": [
    {
     "data": {
      "text/plain": [
       "0.0    97.959184\n",
       "1.0     2.040816\n",
       "Name: y_dev, dtype: float64"
      ]
     },
     "execution_count": 228,
     "metadata": {},
     "output_type": "execute_result"
    }
   ],
   "source": [
    "dev_misclf_df['y_dev'].value_counts() / len(dev_misclf_df['y_dev']) * 100"
   ]
  },
  {
   "cell_type": "markdown",
   "metadata": {},
   "source": [
    "Yes, we can see that majority of the class 0.0 was misclassified. Let's now check our data distribution to see if we can find an explanation for this."
   ]
  },
  {
   "cell_type": "code",
   "execution_count": 229,
   "metadata": {},
   "outputs": [
    {
     "data": {
      "text/plain": [
       "1.0    66.171617\n",
       "0.0    33.828383\n",
       "Name: Empathy, dtype: float64"
      ]
     },
     "execution_count": 229,
     "metadata": {},
     "output_type": "execute_result"
    }
   ],
   "source": [
    "y_train.value_counts() / len(y_train) * 100"
   ]
  },
  {
   "cell_type": "code",
   "execution_count": 230,
   "metadata": {},
   "outputs": [
    {
     "data": {
      "text/plain": [
       "1.0    69.306931\n",
       "0.0    30.693069\n",
       "Name: Empathy, dtype: float64"
      ]
     },
     "execution_count": 230,
     "metadata": {},
     "output_type": "execute_result"
    }
   ],
   "source": [
    "y_dev.value_counts() / len(y_dev) * 100"
   ]
  },
  {
   "cell_type": "code",
   "execution_count": 231,
   "metadata": {},
   "outputs": [
    {
     "data": {
      "text/plain": [
       "1.0    63.861386\n",
       "0.0    36.138614\n",
       "Name: Empathy, dtype: float64"
      ]
     },
     "execution_count": 231,
     "metadata": {},
     "output_type": "execute_result"
    }
   ],
   "source": [
    "y_test.value_counts() / len(y_test) * 100"
   ]
  },
  {
   "cell_type": "markdown",
   "metadata": {},
   "source": [
    "We can see here that there is a fair amount class label imbalance which favors class 1.0 (very empathetic). To remedy this we can use an oversampling method like SMOTE (Synthetic Minority Over-sampling Technique) on class 0.0 to balance the distribution as part of data preparation, before proceeding towards learning. "
   ]
  },
  {
   "cell_type": "markdown",
   "metadata": {},
   "source": [
    "<h3>References</h3>\n",
    "\n",
    "<p>\n",
    "<pre>\n",
    "<a href=\"https://scikit-learn.org/stable/supervised_learning.html#supervised-learning/\">https://scikit-learn.org/stable/supervised_learning.html#supervised-learning/</a>\n",
    "<a href=\"https://docs.scipy.org/doc/numpy-1.15.1/reference/\">https://docs.scipy.org/doc/numpy-1.15.1/reference/</a>\n",
    "<a href=\"https://seaborn.pydata.org/introduction.html\">https://seaborn.pydata.org/introduction.html/</a>\n",
    "<a href=\"https://www.kaggle.com/kanncaa1/feature-selection-and-data-visualization\">https://www.kaggle.com/kanncaa1/feature-selection-and-data-visualization</a>\n",
    "</pre>\n",
    "</p>"
   ]
  }
 ],
 "metadata": {
  "kernelspec": {
   "display_name": "Python 3",
   "language": "python",
   "name": "python3"
  },
  "language_info": {
   "codemirror_mode": {
    "name": "ipython",
    "version": 3
   },
   "file_extension": ".py",
   "mimetype": "text/x-python",
   "name": "python",
   "nbconvert_exporter": "python",
   "pygments_lexer": "ipython3",
   "version": "3.6.5"
  },
  "latex_metadata": {
   "affiliation": "University of Illinois at Chicago",
   "author": "Philip Josph Thomas",
   "title": "CS 412 Project"
  }
 },
 "nbformat": 4,
 "nbformat_minor": 2
}
